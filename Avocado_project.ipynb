{
 "cells": [
  {
   "cell_type": "markdown",
   "id": "fe01db72",
   "metadata": {},
   "source": [
    "# AVOCADO PROJECT"
   ]
  },
  {
   "cell_type": "code",
   "execution_count": 1,
   "id": "3f8a91f3",
   "metadata": {},
   "outputs": [],
   "source": [
    "import pandas as pd\n",
    "import numpy as np\n",
    "import seaborn as sns\n",
    "import matplotlib.pyplot as plt\n",
    "%matplotlib inline\n",
    "\n",
    "import warnings\n",
    "warnings.filterwarnings('ignore')"
   ]
  },
  {
   "cell_type": "code",
   "execution_count": 2,
   "id": "ef0628aa",
   "metadata": {},
   "outputs": [
    {
     "data": {
      "text/html": [
       "<div>\n",
       "<style scoped>\n",
       "    .dataframe tbody tr th:only-of-type {\n",
       "        vertical-align: middle;\n",
       "    }\n",
       "\n",
       "    .dataframe tbody tr th {\n",
       "        vertical-align: top;\n",
       "    }\n",
       "\n",
       "    .dataframe thead th {\n",
       "        text-align: right;\n",
       "    }\n",
       "</style>\n",
       "<table border=\"1\" class=\"dataframe\">\n",
       "  <thead>\n",
       "    <tr style=\"text-align: right;\">\n",
       "      <th></th>\n",
       "      <th>Date</th>\n",
       "      <th>AveragePrice</th>\n",
       "      <th>Total Volume</th>\n",
       "      <th>4046</th>\n",
       "      <th>4225</th>\n",
       "      <th>4770</th>\n",
       "      <th>Total Bags</th>\n",
       "      <th>Small Bags</th>\n",
       "      <th>Large Bags</th>\n",
       "      <th>XLarge Bags</th>\n",
       "      <th>type</th>\n",
       "      <th>year</th>\n",
       "      <th>region</th>\n",
       "    </tr>\n",
       "  </thead>\n",
       "  <tbody>\n",
       "    <tr>\n",
       "      <th>0</th>\n",
       "      <td>27-12-2015</td>\n",
       "      <td>1.33</td>\n",
       "      <td>64236.62</td>\n",
       "      <td>1036.74</td>\n",
       "      <td>54454.85</td>\n",
       "      <td>48.16</td>\n",
       "      <td>8696.87</td>\n",
       "      <td>8603.62</td>\n",
       "      <td>93.25</td>\n",
       "      <td>0.00</td>\n",
       "      <td>conventional</td>\n",
       "      <td>2015</td>\n",
       "      <td>Albany</td>\n",
       "    </tr>\n",
       "    <tr>\n",
       "      <th>1</th>\n",
       "      <td>20-12-2015</td>\n",
       "      <td>1.35</td>\n",
       "      <td>54876.98</td>\n",
       "      <td>674.28</td>\n",
       "      <td>44638.81</td>\n",
       "      <td>58.33</td>\n",
       "      <td>9505.56</td>\n",
       "      <td>9408.07</td>\n",
       "      <td>97.49</td>\n",
       "      <td>0.00</td>\n",
       "      <td>conventional</td>\n",
       "      <td>2015</td>\n",
       "      <td>Albany</td>\n",
       "    </tr>\n",
       "    <tr>\n",
       "      <th>2</th>\n",
       "      <td>13-12-2015</td>\n",
       "      <td>0.93</td>\n",
       "      <td>118220.22</td>\n",
       "      <td>794.70</td>\n",
       "      <td>109149.67</td>\n",
       "      <td>130.50</td>\n",
       "      <td>8145.35</td>\n",
       "      <td>8042.21</td>\n",
       "      <td>103.14</td>\n",
       "      <td>0.00</td>\n",
       "      <td>conventional</td>\n",
       "      <td>2015</td>\n",
       "      <td>Albany</td>\n",
       "    </tr>\n",
       "    <tr>\n",
       "      <th>3</th>\n",
       "      <td>06-12-2015</td>\n",
       "      <td>1.08</td>\n",
       "      <td>78992.15</td>\n",
       "      <td>1132.00</td>\n",
       "      <td>71976.41</td>\n",
       "      <td>72.58</td>\n",
       "      <td>5811.16</td>\n",
       "      <td>5677.40</td>\n",
       "      <td>133.76</td>\n",
       "      <td>0.00</td>\n",
       "      <td>conventional</td>\n",
       "      <td>2015</td>\n",
       "      <td>Albany</td>\n",
       "    </tr>\n",
       "    <tr>\n",
       "      <th>4</th>\n",
       "      <td>29-11-2015</td>\n",
       "      <td>1.28</td>\n",
       "      <td>51039.60</td>\n",
       "      <td>941.48</td>\n",
       "      <td>43838.39</td>\n",
       "      <td>75.78</td>\n",
       "      <td>6183.95</td>\n",
       "      <td>5986.26</td>\n",
       "      <td>197.69</td>\n",
       "      <td>0.00</td>\n",
       "      <td>conventional</td>\n",
       "      <td>2015</td>\n",
       "      <td>Albany</td>\n",
       "    </tr>\n",
       "    <tr>\n",
       "      <th>5</th>\n",
       "      <td>22-11-2015</td>\n",
       "      <td>1.26</td>\n",
       "      <td>55979.78</td>\n",
       "      <td>1184.27</td>\n",
       "      <td>48067.99</td>\n",
       "      <td>43.61</td>\n",
       "      <td>6683.91</td>\n",
       "      <td>6556.47</td>\n",
       "      <td>127.44</td>\n",
       "      <td>0.00</td>\n",
       "      <td>conventional</td>\n",
       "      <td>2015</td>\n",
       "      <td>Albany</td>\n",
       "    </tr>\n",
       "    <tr>\n",
       "      <th>6</th>\n",
       "      <td>15-11-2015</td>\n",
       "      <td>0.99</td>\n",
       "      <td>83453.76</td>\n",
       "      <td>1368.92</td>\n",
       "      <td>73672.72</td>\n",
       "      <td>93.26</td>\n",
       "      <td>8318.86</td>\n",
       "      <td>8196.81</td>\n",
       "      <td>122.05</td>\n",
       "      <td>0.00</td>\n",
       "      <td>conventional</td>\n",
       "      <td>2015</td>\n",
       "      <td>Albany</td>\n",
       "    </tr>\n",
       "    <tr>\n",
       "      <th>7</th>\n",
       "      <td>08-11-2015</td>\n",
       "      <td>0.98</td>\n",
       "      <td>109428.33</td>\n",
       "      <td>703.75</td>\n",
       "      <td>101815.36</td>\n",
       "      <td>80.00</td>\n",
       "      <td>6829.22</td>\n",
       "      <td>6266.85</td>\n",
       "      <td>562.37</td>\n",
       "      <td>0.00</td>\n",
       "      <td>conventional</td>\n",
       "      <td>2015</td>\n",
       "      <td>Albany</td>\n",
       "    </tr>\n",
       "    <tr>\n",
       "      <th>8</th>\n",
       "      <td>01-11-2015</td>\n",
       "      <td>1.02</td>\n",
       "      <td>99811.42</td>\n",
       "      <td>1022.15</td>\n",
       "      <td>87315.57</td>\n",
       "      <td>85.34</td>\n",
       "      <td>11388.36</td>\n",
       "      <td>11104.53</td>\n",
       "      <td>283.83</td>\n",
       "      <td>0.00</td>\n",
       "      <td>conventional</td>\n",
       "      <td>2015</td>\n",
       "      <td>Albany</td>\n",
       "    </tr>\n",
       "    <tr>\n",
       "      <th>9</th>\n",
       "      <td>25-10-2015</td>\n",
       "      <td>1.07</td>\n",
       "      <td>74338.76</td>\n",
       "      <td>842.40</td>\n",
       "      <td>64757.44</td>\n",
       "      <td>113.00</td>\n",
       "      <td>8625.92</td>\n",
       "      <td>8061.47</td>\n",
       "      <td>564.45</td>\n",
       "      <td>0.00</td>\n",
       "      <td>conventional</td>\n",
       "      <td>2015</td>\n",
       "      <td>Albany</td>\n",
       "    </tr>\n",
       "    <tr>\n",
       "      <th>10</th>\n",
       "      <td>18-10-2015</td>\n",
       "      <td>1.12</td>\n",
       "      <td>84843.44</td>\n",
       "      <td>924.86</td>\n",
       "      <td>75595.85</td>\n",
       "      <td>117.07</td>\n",
       "      <td>8205.66</td>\n",
       "      <td>7877.86</td>\n",
       "      <td>327.80</td>\n",
       "      <td>0.00</td>\n",
       "      <td>conventional</td>\n",
       "      <td>2015</td>\n",
       "      <td>Albany</td>\n",
       "    </tr>\n",
       "    <tr>\n",
       "      <th>11</th>\n",
       "      <td>11-10-2015</td>\n",
       "      <td>1.28</td>\n",
       "      <td>64489.17</td>\n",
       "      <td>1582.03</td>\n",
       "      <td>52677.92</td>\n",
       "      <td>105.32</td>\n",
       "      <td>10123.90</td>\n",
       "      <td>9866.27</td>\n",
       "      <td>257.63</td>\n",
       "      <td>0.00</td>\n",
       "      <td>conventional</td>\n",
       "      <td>2015</td>\n",
       "      <td>Albany</td>\n",
       "    </tr>\n",
       "    <tr>\n",
       "      <th>12</th>\n",
       "      <td>04-10-2015</td>\n",
       "      <td>1.31</td>\n",
       "      <td>61007.10</td>\n",
       "      <td>2268.32</td>\n",
       "      <td>49880.67</td>\n",
       "      <td>101.36</td>\n",
       "      <td>8756.75</td>\n",
       "      <td>8379.98</td>\n",
       "      <td>376.77</td>\n",
       "      <td>0.00</td>\n",
       "      <td>conventional</td>\n",
       "      <td>2015</td>\n",
       "      <td>Albany</td>\n",
       "    </tr>\n",
       "    <tr>\n",
       "      <th>13</th>\n",
       "      <td>27-09-2015</td>\n",
       "      <td>0.99</td>\n",
       "      <td>106803.39</td>\n",
       "      <td>1204.88</td>\n",
       "      <td>99409.21</td>\n",
       "      <td>154.84</td>\n",
       "      <td>6034.46</td>\n",
       "      <td>5888.87</td>\n",
       "      <td>145.59</td>\n",
       "      <td>0.00</td>\n",
       "      <td>conventional</td>\n",
       "      <td>2015</td>\n",
       "      <td>Albany</td>\n",
       "    </tr>\n",
       "    <tr>\n",
       "      <th>14</th>\n",
       "      <td>20-09-2015</td>\n",
       "      <td>1.33</td>\n",
       "      <td>69759.01</td>\n",
       "      <td>1028.03</td>\n",
       "      <td>59313.12</td>\n",
       "      <td>150.50</td>\n",
       "      <td>9267.36</td>\n",
       "      <td>8489.10</td>\n",
       "      <td>778.26</td>\n",
       "      <td>0.00</td>\n",
       "      <td>conventional</td>\n",
       "      <td>2015</td>\n",
       "      <td>Albany</td>\n",
       "    </tr>\n",
       "    <tr>\n",
       "      <th>15</th>\n",
       "      <td>13-09-2015</td>\n",
       "      <td>1.28</td>\n",
       "      <td>76111.27</td>\n",
       "      <td>985.73</td>\n",
       "      <td>65696.86</td>\n",
       "      <td>142.00</td>\n",
       "      <td>9286.68</td>\n",
       "      <td>8665.19</td>\n",
       "      <td>621.49</td>\n",
       "      <td>0.00</td>\n",
       "      <td>conventional</td>\n",
       "      <td>2015</td>\n",
       "      <td>Albany</td>\n",
       "    </tr>\n",
       "    <tr>\n",
       "      <th>16</th>\n",
       "      <td>06-09-2015</td>\n",
       "      <td>1.11</td>\n",
       "      <td>99172.96</td>\n",
       "      <td>879.45</td>\n",
       "      <td>90062.62</td>\n",
       "      <td>240.79</td>\n",
       "      <td>7990.10</td>\n",
       "      <td>7762.87</td>\n",
       "      <td>227.23</td>\n",
       "      <td>0.00</td>\n",
       "      <td>conventional</td>\n",
       "      <td>2015</td>\n",
       "      <td>Albany</td>\n",
       "    </tr>\n",
       "    <tr>\n",
       "      <th>17</th>\n",
       "      <td>30-08-2015</td>\n",
       "      <td>1.07</td>\n",
       "      <td>105693.84</td>\n",
       "      <td>689.01</td>\n",
       "      <td>94362.67</td>\n",
       "      <td>335.43</td>\n",
       "      <td>10306.73</td>\n",
       "      <td>10218.93</td>\n",
       "      <td>87.80</td>\n",
       "      <td>0.00</td>\n",
       "      <td>conventional</td>\n",
       "      <td>2015</td>\n",
       "      <td>Albany</td>\n",
       "    </tr>\n",
       "    <tr>\n",
       "      <th>18</th>\n",
       "      <td>23-08-2015</td>\n",
       "      <td>1.34</td>\n",
       "      <td>79992.09</td>\n",
       "      <td>733.16</td>\n",
       "      <td>67933.79</td>\n",
       "      <td>444.78</td>\n",
       "      <td>10880.36</td>\n",
       "      <td>10745.79</td>\n",
       "      <td>134.57</td>\n",
       "      <td>0.00</td>\n",
       "      <td>conventional</td>\n",
       "      <td>2015</td>\n",
       "      <td>Albany</td>\n",
       "    </tr>\n",
       "    <tr>\n",
       "      <th>19</th>\n",
       "      <td>16-08-2015</td>\n",
       "      <td>1.33</td>\n",
       "      <td>80043.78</td>\n",
       "      <td>539.65</td>\n",
       "      <td>68666.01</td>\n",
       "      <td>394.90</td>\n",
       "      <td>10443.22</td>\n",
       "      <td>10297.68</td>\n",
       "      <td>145.54</td>\n",
       "      <td>0.00</td>\n",
       "      <td>conventional</td>\n",
       "      <td>2015</td>\n",
       "      <td>Albany</td>\n",
       "    </tr>\n",
       "    <tr>\n",
       "      <th>20</th>\n",
       "      <td>09-08-2015</td>\n",
       "      <td>1.12</td>\n",
       "      <td>111140.93</td>\n",
       "      <td>584.63</td>\n",
       "      <td>100961.46</td>\n",
       "      <td>368.95</td>\n",
       "      <td>9225.89</td>\n",
       "      <td>9116.34</td>\n",
       "      <td>109.55</td>\n",
       "      <td>0.00</td>\n",
       "      <td>conventional</td>\n",
       "      <td>2015</td>\n",
       "      <td>Albany</td>\n",
       "    </tr>\n",
       "    <tr>\n",
       "      <th>21</th>\n",
       "      <td>02-08-2015</td>\n",
       "      <td>1.45</td>\n",
       "      <td>75133.10</td>\n",
       "      <td>509.94</td>\n",
       "      <td>62035.06</td>\n",
       "      <td>741.08</td>\n",
       "      <td>11847.02</td>\n",
       "      <td>11768.52</td>\n",
       "      <td>78.50</td>\n",
       "      <td>0.00</td>\n",
       "      <td>conventional</td>\n",
       "      <td>2015</td>\n",
       "      <td>Albany</td>\n",
       "    </tr>\n",
       "    <tr>\n",
       "      <th>22</th>\n",
       "      <td>26-07-2015</td>\n",
       "      <td>1.11</td>\n",
       "      <td>106757.10</td>\n",
       "      <td>648.75</td>\n",
       "      <td>91949.05</td>\n",
       "      <td>966.61</td>\n",
       "      <td>13192.69</td>\n",
       "      <td>13061.53</td>\n",
       "      <td>131.16</td>\n",
       "      <td>0.00</td>\n",
       "      <td>conventional</td>\n",
       "      <td>2015</td>\n",
       "      <td>Albany</td>\n",
       "    </tr>\n",
       "    <tr>\n",
       "      <th>23</th>\n",
       "      <td>19-07-2015</td>\n",
       "      <td>1.26</td>\n",
       "      <td>96617.00</td>\n",
       "      <td>1042.10</td>\n",
       "      <td>82049.40</td>\n",
       "      <td>2238.02</td>\n",
       "      <td>11287.48</td>\n",
       "      <td>11103.49</td>\n",
       "      <td>183.99</td>\n",
       "      <td>0.00</td>\n",
       "      <td>conventional</td>\n",
       "      <td>2015</td>\n",
       "      <td>Albany</td>\n",
       "    </tr>\n",
       "    <tr>\n",
       "      <th>24</th>\n",
       "      <td>12-07-2015</td>\n",
       "      <td>1.05</td>\n",
       "      <td>124055.31</td>\n",
       "      <td>672.25</td>\n",
       "      <td>94693.52</td>\n",
       "      <td>4257.64</td>\n",
       "      <td>24431.90</td>\n",
       "      <td>24290.08</td>\n",
       "      <td>108.49</td>\n",
       "      <td>33.33</td>\n",
       "      <td>conventional</td>\n",
       "      <td>2015</td>\n",
       "      <td>Albany</td>\n",
       "    </tr>\n",
       "    <tr>\n",
       "      <th>25</th>\n",
       "      <td>05-07-2015</td>\n",
       "      <td>1.35</td>\n",
       "      <td>109252.12</td>\n",
       "      <td>869.45</td>\n",
       "      <td>72600.55</td>\n",
       "      <td>5883.16</td>\n",
       "      <td>29898.96</td>\n",
       "      <td>29663.19</td>\n",
       "      <td>235.77</td>\n",
       "      <td>0.00</td>\n",
       "      <td>conventional</td>\n",
       "      <td>2015</td>\n",
       "      <td>Albany</td>\n",
       "    </tr>\n",
       "    <tr>\n",
       "      <th>26</th>\n",
       "      <td>28-06-2015</td>\n",
       "      <td>1.37</td>\n",
       "      <td>89534.81</td>\n",
       "      <td>664.23</td>\n",
       "      <td>57545.79</td>\n",
       "      <td>4662.71</td>\n",
       "      <td>26662.08</td>\n",
       "      <td>26311.76</td>\n",
       "      <td>350.32</td>\n",
       "      <td>0.00</td>\n",
       "      <td>conventional</td>\n",
       "      <td>2015</td>\n",
       "      <td>Albany</td>\n",
       "    </tr>\n",
       "    <tr>\n",
       "      <th>27</th>\n",
       "      <td>21-06-2015</td>\n",
       "      <td>1.27</td>\n",
       "      <td>104849.39</td>\n",
       "      <td>804.01</td>\n",
       "      <td>76688.55</td>\n",
       "      <td>5481.18</td>\n",
       "      <td>21875.65</td>\n",
       "      <td>21662.00</td>\n",
       "      <td>213.65</td>\n",
       "      <td>0.00</td>\n",
       "      <td>conventional</td>\n",
       "      <td>2015</td>\n",
       "      <td>Albany</td>\n",
       "    </tr>\n",
       "    <tr>\n",
       "      <th>28</th>\n",
       "      <td>14-06-2015</td>\n",
       "      <td>1.32</td>\n",
       "      <td>89631.30</td>\n",
       "      <td>850.58</td>\n",
       "      <td>55400.94</td>\n",
       "      <td>4377.19</td>\n",
       "      <td>29002.59</td>\n",
       "      <td>28343.14</td>\n",
       "      <td>659.45</td>\n",
       "      <td>0.00</td>\n",
       "      <td>conventional</td>\n",
       "      <td>2015</td>\n",
       "      <td>Albany</td>\n",
       "    </tr>\n",
       "    <tr>\n",
       "      <th>29</th>\n",
       "      <td>07-06-2015</td>\n",
       "      <td>1.07</td>\n",
       "      <td>122743.06</td>\n",
       "      <td>656.71</td>\n",
       "      <td>99220.82</td>\n",
       "      <td>90.32</td>\n",
       "      <td>22775.21</td>\n",
       "      <td>22314.99</td>\n",
       "      <td>460.22</td>\n",
       "      <td>0.00</td>\n",
       "      <td>conventional</td>\n",
       "      <td>2015</td>\n",
       "      <td>Albany</td>\n",
       "    </tr>\n",
       "    <tr>\n",
       "      <th>30</th>\n",
       "      <td>31-05-2015</td>\n",
       "      <td>1.23</td>\n",
       "      <td>95123.62</td>\n",
       "      <td>922.37</td>\n",
       "      <td>70469.69</td>\n",
       "      <td>50.55</td>\n",
       "      <td>23681.01</td>\n",
       "      <td>23222.49</td>\n",
       "      <td>458.52</td>\n",
       "      <td>0.00</td>\n",
       "      <td>conventional</td>\n",
       "      <td>2015</td>\n",
       "      <td>Albany</td>\n",
       "    </tr>\n",
       "    <tr>\n",
       "      <th>31</th>\n",
       "      <td>24-05-2015</td>\n",
       "      <td>1.19</td>\n",
       "      <td>101470.91</td>\n",
       "      <td>680.27</td>\n",
       "      <td>71376.81</td>\n",
       "      <td>58.70</td>\n",
       "      <td>29355.13</td>\n",
       "      <td>28761.81</td>\n",
       "      <td>593.32</td>\n",
       "      <td>0.00</td>\n",
       "      <td>conventional</td>\n",
       "      <td>2015</td>\n",
       "      <td>Albany</td>\n",
       "    </tr>\n",
       "    <tr>\n",
       "      <th>32</th>\n",
       "      <td>17-05-2015</td>\n",
       "      <td>1.43</td>\n",
       "      <td>109857.47</td>\n",
       "      <td>1150.55</td>\n",
       "      <td>81955.16</td>\n",
       "      <td>94.32</td>\n",
       "      <td>26657.44</td>\n",
       "      <td>26285.43</td>\n",
       "      <td>372.01</td>\n",
       "      <td>0.00</td>\n",
       "      <td>conventional</td>\n",
       "      <td>2015</td>\n",
       "      <td>Albany</td>\n",
       "    </tr>\n",
       "    <tr>\n",
       "      <th>33</th>\n",
       "      <td>10-05-2015</td>\n",
       "      <td>1.26</td>\n",
       "      <td>120427.91</td>\n",
       "      <td>1420.43</td>\n",
       "      <td>102000.52</td>\n",
       "      <td>185.66</td>\n",
       "      <td>16821.30</td>\n",
       "      <td>16535.55</td>\n",
       "      <td>285.75</td>\n",
       "      <td>0.00</td>\n",
       "      <td>conventional</td>\n",
       "      <td>2015</td>\n",
       "      <td>Albany</td>\n",
       "    </tr>\n",
       "    <tr>\n",
       "      <th>34</th>\n",
       "      <td>03-05-2015</td>\n",
       "      <td>1.20</td>\n",
       "      <td>59197.67</td>\n",
       "      <td>919.87</td>\n",
       "      <td>45490.05</td>\n",
       "      <td>217.24</td>\n",
       "      <td>12570.51</td>\n",
       "      <td>12201.95</td>\n",
       "      <td>368.56</td>\n",
       "      <td>0.00</td>\n",
       "      <td>conventional</td>\n",
       "      <td>2015</td>\n",
       "      <td>Albany</td>\n",
       "    </tr>\n",
       "    <tr>\n",
       "      <th>35</th>\n",
       "      <td>26-04-2015</td>\n",
       "      <td>1.22</td>\n",
       "      <td>49585.46</td>\n",
       "      <td>875.65</td>\n",
       "      <td>35841.75</td>\n",
       "      <td>89.62</td>\n",
       "      <td>12778.44</td>\n",
       "      <td>12076.83</td>\n",
       "      <td>701.61</td>\n",
       "      <td>0.00</td>\n",
       "      <td>conventional</td>\n",
       "      <td>2015</td>\n",
       "      <td>Albany</td>\n",
       "    </tr>\n",
       "    <tr>\n",
       "      <th>36</th>\n",
       "      <td>19-04-2015</td>\n",
       "      <td>1.19</td>\n",
       "      <td>49064.73</td>\n",
       "      <td>774.15</td>\n",
       "      <td>33941.51</td>\n",
       "      <td>47.15</td>\n",
       "      <td>14301.92</td>\n",
       "      <td>13602.97</td>\n",
       "      <td>698.95</td>\n",
       "      <td>0.00</td>\n",
       "      <td>conventional</td>\n",
       "      <td>2015</td>\n",
       "      <td>Albany</td>\n",
       "    </tr>\n",
       "    <tr>\n",
       "      <th>37</th>\n",
       "      <td>12-04-2015</td>\n",
       "      <td>1.13</td>\n",
       "      <td>48364.29</td>\n",
       "      <td>864.27</td>\n",
       "      <td>30374.15</td>\n",
       "      <td>21.50</td>\n",
       "      <td>17104.37</td>\n",
       "      <td>16438.49</td>\n",
       "      <td>665.88</td>\n",
       "      <td>0.00</td>\n",
       "      <td>conventional</td>\n",
       "      <td>2015</td>\n",
       "      <td>Albany</td>\n",
       "    </tr>\n",
       "    <tr>\n",
       "      <th>38</th>\n",
       "      <td>05-04-2015</td>\n",
       "      <td>1.16</td>\n",
       "      <td>47362.13</td>\n",
       "      <td>961.77</td>\n",
       "      <td>35577.66</td>\n",
       "      <td>93.76</td>\n",
       "      <td>10728.94</td>\n",
       "      <td>9869.16</td>\n",
       "      <td>755.61</td>\n",
       "      <td>104.17</td>\n",
       "      <td>conventional</td>\n",
       "      <td>2015</td>\n",
       "      <td>Albany</td>\n",
       "    </tr>\n",
       "    <tr>\n",
       "      <th>39</th>\n",
       "      <td>29-03-2015</td>\n",
       "      <td>1.02</td>\n",
       "      <td>67799.08</td>\n",
       "      <td>1402.28</td>\n",
       "      <td>58623.22</td>\n",
       "      <td>89.50</td>\n",
       "      <td>7684.08</td>\n",
       "      <td>7208.49</td>\n",
       "      <td>475.59</td>\n",
       "      <td>0.00</td>\n",
       "      <td>conventional</td>\n",
       "      <td>2015</td>\n",
       "      <td>Albany</td>\n",
       "    </tr>\n",
       "    <tr>\n",
       "      <th>40</th>\n",
       "      <td>22-03-2015</td>\n",
       "      <td>1.12</td>\n",
       "      <td>46346.85</td>\n",
       "      <td>2141.83</td>\n",
       "      <td>34313.56</td>\n",
       "      <td>141.80</td>\n",
       "      <td>9749.66</td>\n",
       "      <td>9252.60</td>\n",
       "      <td>497.06</td>\n",
       "      <td>0.00</td>\n",
       "      <td>conventional</td>\n",
       "      <td>2015</td>\n",
       "      <td>Albany</td>\n",
       "    </tr>\n",
       "    <tr>\n",
       "      <th>41</th>\n",
       "      <td>15-03-2015</td>\n",
       "      <td>1.11</td>\n",
       "      <td>43045.79</td>\n",
       "      <td>2128.26</td>\n",
       "      <td>30447.17</td>\n",
       "      <td>99.67</td>\n",
       "      <td>10370.69</td>\n",
       "      <td>9989.59</td>\n",
       "      <td>381.10</td>\n",
       "      <td>0.00</td>\n",
       "      <td>conventional</td>\n",
       "      <td>2015</td>\n",
       "      <td>Albany</td>\n",
       "    </tr>\n",
       "    <tr>\n",
       "      <th>42</th>\n",
       "      <td>08-03-2015</td>\n",
       "      <td>1.07</td>\n",
       "      <td>40507.36</td>\n",
       "      <td>795.68</td>\n",
       "      <td>30370.64</td>\n",
       "      <td>159.05</td>\n",
       "      <td>9181.99</td>\n",
       "      <td>8827.55</td>\n",
       "      <td>354.44</td>\n",
       "      <td>0.00</td>\n",
       "      <td>conventional</td>\n",
       "      <td>2015</td>\n",
       "      <td>Albany</td>\n",
       "    </tr>\n",
       "    <tr>\n",
       "      <th>43</th>\n",
       "      <td>01-03-2015</td>\n",
       "      <td>0.99</td>\n",
       "      <td>55595.74</td>\n",
       "      <td>629.46</td>\n",
       "      <td>45633.34</td>\n",
       "      <td>181.49</td>\n",
       "      <td>9151.45</td>\n",
       "      <td>8986.06</td>\n",
       "      <td>165.39</td>\n",
       "      <td>0.00</td>\n",
       "      <td>conventional</td>\n",
       "      <td>2015</td>\n",
       "      <td>Albany</td>\n",
       "    </tr>\n",
       "    <tr>\n",
       "      <th>44</th>\n",
       "      <td>22-02-2015</td>\n",
       "      <td>1.07</td>\n",
       "      <td>45675.05</td>\n",
       "      <td>1088.38</td>\n",
       "      <td>35056.13</td>\n",
       "      <td>151.00</td>\n",
       "      <td>9379.54</td>\n",
       "      <td>9000.16</td>\n",
       "      <td>379.38</td>\n",
       "      <td>0.00</td>\n",
       "      <td>conventional</td>\n",
       "      <td>2015</td>\n",
       "      <td>Albany</td>\n",
       "    </tr>\n",
       "    <tr>\n",
       "      <th>45</th>\n",
       "      <td>15-02-2015</td>\n",
       "      <td>1.06</td>\n",
       "      <td>41567.62</td>\n",
       "      <td>986.66</td>\n",
       "      <td>30045.51</td>\n",
       "      <td>222.42</td>\n",
       "      <td>10313.03</td>\n",
       "      <td>9979.87</td>\n",
       "      <td>333.16</td>\n",
       "      <td>0.00</td>\n",
       "      <td>conventional</td>\n",
       "      <td>2015</td>\n",
       "      <td>Albany</td>\n",
       "    </tr>\n",
       "    <tr>\n",
       "      <th>46</th>\n",
       "      <td>08-02-2015</td>\n",
       "      <td>0.99</td>\n",
       "      <td>51253.97</td>\n",
       "      <td>1357.37</td>\n",
       "      <td>39111.81</td>\n",
       "      <td>163.25</td>\n",
       "      <td>10621.54</td>\n",
       "      <td>10113.10</td>\n",
       "      <td>508.44</td>\n",
       "      <td>0.00</td>\n",
       "      <td>conventional</td>\n",
       "      <td>2015</td>\n",
       "      <td>Albany</td>\n",
       "    </tr>\n",
       "    <tr>\n",
       "      <th>47</th>\n",
       "      <td>01-02-2015</td>\n",
       "      <td>0.99</td>\n",
       "      <td>70873.60</td>\n",
       "      <td>1353.90</td>\n",
       "      <td>60017.20</td>\n",
       "      <td>179.32</td>\n",
       "      <td>9323.18</td>\n",
       "      <td>9170.82</td>\n",
       "      <td>152.36</td>\n",
       "      <td>0.00</td>\n",
       "      <td>conventional</td>\n",
       "      <td>2015</td>\n",
       "      <td>Albany</td>\n",
       "    </tr>\n",
       "    <tr>\n",
       "      <th>48</th>\n",
       "      <td>25-01-2015</td>\n",
       "      <td>1.06</td>\n",
       "      <td>45147.50</td>\n",
       "      <td>941.38</td>\n",
       "      <td>33196.16</td>\n",
       "      <td>164.14</td>\n",
       "      <td>10845.82</td>\n",
       "      <td>10103.35</td>\n",
       "      <td>742.47</td>\n",
       "      <td>0.00</td>\n",
       "      <td>conventional</td>\n",
       "      <td>2015</td>\n",
       "      <td>Albany</td>\n",
       "    </tr>\n",
       "    <tr>\n",
       "      <th>49</th>\n",
       "      <td>18-01-2015</td>\n",
       "      <td>1.17</td>\n",
       "      <td>44511.28</td>\n",
       "      <td>914.14</td>\n",
       "      <td>31540.32</td>\n",
       "      <td>135.77</td>\n",
       "      <td>11921.05</td>\n",
       "      <td>11651.09</td>\n",
       "      <td>269.96</td>\n",
       "      <td>0.00</td>\n",
       "      <td>conventional</td>\n",
       "      <td>2015</td>\n",
       "      <td>Albany</td>\n",
       "    </tr>\n",
       "  </tbody>\n",
       "</table>\n",
       "</div>"
      ],
      "text/plain": [
       "          Date  AveragePrice  Total Volume     4046       4225     4770  \\\n",
       "0   27-12-2015          1.33      64236.62  1036.74   54454.85    48.16   \n",
       "1   20-12-2015          1.35      54876.98   674.28   44638.81    58.33   \n",
       "2   13-12-2015          0.93     118220.22   794.70  109149.67   130.50   \n",
       "3   06-12-2015          1.08      78992.15  1132.00   71976.41    72.58   \n",
       "4   29-11-2015          1.28      51039.60   941.48   43838.39    75.78   \n",
       "5   22-11-2015          1.26      55979.78  1184.27   48067.99    43.61   \n",
       "6   15-11-2015          0.99      83453.76  1368.92   73672.72    93.26   \n",
       "7   08-11-2015          0.98     109428.33   703.75  101815.36    80.00   \n",
       "8   01-11-2015          1.02      99811.42  1022.15   87315.57    85.34   \n",
       "9   25-10-2015          1.07      74338.76   842.40   64757.44   113.00   \n",
       "10  18-10-2015          1.12      84843.44   924.86   75595.85   117.07   \n",
       "11  11-10-2015          1.28      64489.17  1582.03   52677.92   105.32   \n",
       "12  04-10-2015          1.31      61007.10  2268.32   49880.67   101.36   \n",
       "13  27-09-2015          0.99     106803.39  1204.88   99409.21   154.84   \n",
       "14  20-09-2015          1.33      69759.01  1028.03   59313.12   150.50   \n",
       "15  13-09-2015          1.28      76111.27   985.73   65696.86   142.00   \n",
       "16  06-09-2015          1.11      99172.96   879.45   90062.62   240.79   \n",
       "17  30-08-2015          1.07     105693.84   689.01   94362.67   335.43   \n",
       "18  23-08-2015          1.34      79992.09   733.16   67933.79   444.78   \n",
       "19  16-08-2015          1.33      80043.78   539.65   68666.01   394.90   \n",
       "20  09-08-2015          1.12     111140.93   584.63  100961.46   368.95   \n",
       "21  02-08-2015          1.45      75133.10   509.94   62035.06   741.08   \n",
       "22  26-07-2015          1.11     106757.10   648.75   91949.05   966.61   \n",
       "23  19-07-2015          1.26      96617.00  1042.10   82049.40  2238.02   \n",
       "24  12-07-2015          1.05     124055.31   672.25   94693.52  4257.64   \n",
       "25  05-07-2015          1.35     109252.12   869.45   72600.55  5883.16   \n",
       "26  28-06-2015          1.37      89534.81   664.23   57545.79  4662.71   \n",
       "27  21-06-2015          1.27     104849.39   804.01   76688.55  5481.18   \n",
       "28  14-06-2015          1.32      89631.30   850.58   55400.94  4377.19   \n",
       "29  07-06-2015          1.07     122743.06   656.71   99220.82    90.32   \n",
       "30  31-05-2015          1.23      95123.62   922.37   70469.69    50.55   \n",
       "31  24-05-2015          1.19     101470.91   680.27   71376.81    58.70   \n",
       "32  17-05-2015          1.43     109857.47  1150.55   81955.16    94.32   \n",
       "33  10-05-2015          1.26     120427.91  1420.43  102000.52   185.66   \n",
       "34  03-05-2015          1.20      59197.67   919.87   45490.05   217.24   \n",
       "35  26-04-2015          1.22      49585.46   875.65   35841.75    89.62   \n",
       "36  19-04-2015          1.19      49064.73   774.15   33941.51    47.15   \n",
       "37  12-04-2015          1.13      48364.29   864.27   30374.15    21.50   \n",
       "38  05-04-2015          1.16      47362.13   961.77   35577.66    93.76   \n",
       "39  29-03-2015          1.02      67799.08  1402.28   58623.22    89.50   \n",
       "40  22-03-2015          1.12      46346.85  2141.83   34313.56   141.80   \n",
       "41  15-03-2015          1.11      43045.79  2128.26   30447.17    99.67   \n",
       "42  08-03-2015          1.07      40507.36   795.68   30370.64   159.05   \n",
       "43  01-03-2015          0.99      55595.74   629.46   45633.34   181.49   \n",
       "44  22-02-2015          1.07      45675.05  1088.38   35056.13   151.00   \n",
       "45  15-02-2015          1.06      41567.62   986.66   30045.51   222.42   \n",
       "46  08-02-2015          0.99      51253.97  1357.37   39111.81   163.25   \n",
       "47  01-02-2015          0.99      70873.60  1353.90   60017.20   179.32   \n",
       "48  25-01-2015          1.06      45147.50   941.38   33196.16   164.14   \n",
       "49  18-01-2015          1.17      44511.28   914.14   31540.32   135.77   \n",
       "\n",
       "    Total Bags  Small Bags  Large Bags  XLarge Bags          type  year  \\\n",
       "0      8696.87     8603.62       93.25         0.00  conventional  2015   \n",
       "1      9505.56     9408.07       97.49         0.00  conventional  2015   \n",
       "2      8145.35     8042.21      103.14         0.00  conventional  2015   \n",
       "3      5811.16     5677.40      133.76         0.00  conventional  2015   \n",
       "4      6183.95     5986.26      197.69         0.00  conventional  2015   \n",
       "5      6683.91     6556.47      127.44         0.00  conventional  2015   \n",
       "6      8318.86     8196.81      122.05         0.00  conventional  2015   \n",
       "7      6829.22     6266.85      562.37         0.00  conventional  2015   \n",
       "8     11388.36    11104.53      283.83         0.00  conventional  2015   \n",
       "9      8625.92     8061.47      564.45         0.00  conventional  2015   \n",
       "10     8205.66     7877.86      327.80         0.00  conventional  2015   \n",
       "11    10123.90     9866.27      257.63         0.00  conventional  2015   \n",
       "12     8756.75     8379.98      376.77         0.00  conventional  2015   \n",
       "13     6034.46     5888.87      145.59         0.00  conventional  2015   \n",
       "14     9267.36     8489.10      778.26         0.00  conventional  2015   \n",
       "15     9286.68     8665.19      621.49         0.00  conventional  2015   \n",
       "16     7990.10     7762.87      227.23         0.00  conventional  2015   \n",
       "17    10306.73    10218.93       87.80         0.00  conventional  2015   \n",
       "18    10880.36    10745.79      134.57         0.00  conventional  2015   \n",
       "19    10443.22    10297.68      145.54         0.00  conventional  2015   \n",
       "20     9225.89     9116.34      109.55         0.00  conventional  2015   \n",
       "21    11847.02    11768.52       78.50         0.00  conventional  2015   \n",
       "22    13192.69    13061.53      131.16         0.00  conventional  2015   \n",
       "23    11287.48    11103.49      183.99         0.00  conventional  2015   \n",
       "24    24431.90    24290.08      108.49        33.33  conventional  2015   \n",
       "25    29898.96    29663.19      235.77         0.00  conventional  2015   \n",
       "26    26662.08    26311.76      350.32         0.00  conventional  2015   \n",
       "27    21875.65    21662.00      213.65         0.00  conventional  2015   \n",
       "28    29002.59    28343.14      659.45         0.00  conventional  2015   \n",
       "29    22775.21    22314.99      460.22         0.00  conventional  2015   \n",
       "30    23681.01    23222.49      458.52         0.00  conventional  2015   \n",
       "31    29355.13    28761.81      593.32         0.00  conventional  2015   \n",
       "32    26657.44    26285.43      372.01         0.00  conventional  2015   \n",
       "33    16821.30    16535.55      285.75         0.00  conventional  2015   \n",
       "34    12570.51    12201.95      368.56         0.00  conventional  2015   \n",
       "35    12778.44    12076.83      701.61         0.00  conventional  2015   \n",
       "36    14301.92    13602.97      698.95         0.00  conventional  2015   \n",
       "37    17104.37    16438.49      665.88         0.00  conventional  2015   \n",
       "38    10728.94     9869.16      755.61       104.17  conventional  2015   \n",
       "39     7684.08     7208.49      475.59         0.00  conventional  2015   \n",
       "40     9749.66     9252.60      497.06         0.00  conventional  2015   \n",
       "41    10370.69     9989.59      381.10         0.00  conventional  2015   \n",
       "42     9181.99     8827.55      354.44         0.00  conventional  2015   \n",
       "43     9151.45     8986.06      165.39         0.00  conventional  2015   \n",
       "44     9379.54     9000.16      379.38         0.00  conventional  2015   \n",
       "45    10313.03     9979.87      333.16         0.00  conventional  2015   \n",
       "46    10621.54    10113.10      508.44         0.00  conventional  2015   \n",
       "47     9323.18     9170.82      152.36         0.00  conventional  2015   \n",
       "48    10845.82    10103.35      742.47         0.00  conventional  2015   \n",
       "49    11921.05    11651.09      269.96         0.00  conventional  2015   \n",
       "\n",
       "    region  \n",
       "0   Albany  \n",
       "1   Albany  \n",
       "2   Albany  \n",
       "3   Albany  \n",
       "4   Albany  \n",
       "5   Albany  \n",
       "6   Albany  \n",
       "7   Albany  \n",
       "8   Albany  \n",
       "9   Albany  \n",
       "10  Albany  \n",
       "11  Albany  \n",
       "12  Albany  \n",
       "13  Albany  \n",
       "14  Albany  \n",
       "15  Albany  \n",
       "16  Albany  \n",
       "17  Albany  \n",
       "18  Albany  \n",
       "19  Albany  \n",
       "20  Albany  \n",
       "21  Albany  \n",
       "22  Albany  \n",
       "23  Albany  \n",
       "24  Albany  \n",
       "25  Albany  \n",
       "26  Albany  \n",
       "27  Albany  \n",
       "28  Albany  \n",
       "29  Albany  \n",
       "30  Albany  \n",
       "31  Albany  \n",
       "32  Albany  \n",
       "33  Albany  \n",
       "34  Albany  \n",
       "35  Albany  \n",
       "36  Albany  \n",
       "37  Albany  \n",
       "38  Albany  \n",
       "39  Albany  \n",
       "40  Albany  \n",
       "41  Albany  \n",
       "42  Albany  \n",
       "43  Albany  \n",
       "44  Albany  \n",
       "45  Albany  \n",
       "46  Albany  \n",
       "47  Albany  \n",
       "48  Albany  \n",
       "49  Albany  "
      ]
     },
     "execution_count": 2,
     "metadata": {},
     "output_type": "execute_result"
    }
   ],
   "source": [
    "df= pd.read_csv('avocado.csv')\n",
    "df.head(50)"
   ]
  },
  {
   "cell_type": "code",
   "execution_count": 3,
   "id": "7f2c4819",
   "metadata": {},
   "outputs": [
    {
     "data": {
      "text/plain": [
       "(18249, 13)"
      ]
     },
     "execution_count": 3,
     "metadata": {},
     "output_type": "execute_result"
    }
   ],
   "source": [
    "df.shape"
   ]
  },
  {
   "cell_type": "code",
   "execution_count": 4,
   "id": "4e0a6861",
   "metadata": {},
   "outputs": [
    {
     "name": "stdout",
     "output_type": "stream",
     "text": [
      "<class 'pandas.core.frame.DataFrame'>\n",
      "RangeIndex: 18249 entries, 0 to 18248\n",
      "Data columns (total 13 columns):\n",
      " #   Column        Non-Null Count  Dtype  \n",
      "---  ------        --------------  -----  \n",
      " 0   Date          18249 non-null  object \n",
      " 1   AveragePrice  18249 non-null  float64\n",
      " 2   Total Volume  18249 non-null  float64\n",
      " 3   4046          18249 non-null  float64\n",
      " 4   4225          18249 non-null  float64\n",
      " 5   4770          18249 non-null  float64\n",
      " 6   Total Bags    18249 non-null  float64\n",
      " 7   Small Bags    18249 non-null  float64\n",
      " 8   Large Bags    18249 non-null  float64\n",
      " 9   XLarge Bags   18249 non-null  float64\n",
      " 10  type          18249 non-null  object \n",
      " 11  year          18249 non-null  int64  \n",
      " 12  region        18249 non-null  object \n",
      "dtypes: float64(9), int64(1), object(3)\n",
      "memory usage: 1.8+ MB\n"
     ]
    }
   ],
   "source": [
    "df.info()"
   ]
  },
  {
   "cell_type": "code",
   "execution_count": 5,
   "id": "e584a15d",
   "metadata": {},
   "outputs": [],
   "source": [
    "# We have 13 features here, No null value present in any of the feature\n",
    "\n",
    "# Date, type and region are of object type, categorical deatures\n",
    "# while others are float\n",
    "# year in integer"
   ]
  },
  {
   "cell_type": "code",
   "execution_count": 6,
   "id": "049c0f26",
   "metadata": {},
   "outputs": [
    {
     "data": {
      "text/html": [
       "<div>\n",
       "<style scoped>\n",
       "    .dataframe tbody tr th:only-of-type {\n",
       "        vertical-align: middle;\n",
       "    }\n",
       "\n",
       "    .dataframe tbody tr th {\n",
       "        vertical-align: top;\n",
       "    }\n",
       "\n",
       "    .dataframe thead th {\n",
       "        text-align: right;\n",
       "    }\n",
       "</style>\n",
       "<table border=\"1\" class=\"dataframe\">\n",
       "  <thead>\n",
       "    <tr style=\"text-align: right;\">\n",
       "      <th></th>\n",
       "      <th>count</th>\n",
       "      <th>mean</th>\n",
       "      <th>std</th>\n",
       "      <th>min</th>\n",
       "      <th>25%</th>\n",
       "      <th>50%</th>\n",
       "      <th>75%</th>\n",
       "      <th>max</th>\n",
       "    </tr>\n",
       "  </thead>\n",
       "  <tbody>\n",
       "    <tr>\n",
       "      <th>AveragePrice</th>\n",
       "      <td>18249.0</td>\n",
       "      <td>1.405978</td>\n",
       "      <td>4.026766e-01</td>\n",
       "      <td>0.44</td>\n",
       "      <td>1.10</td>\n",
       "      <td>1.37</td>\n",
       "      <td>1.66</td>\n",
       "      <td>3.25</td>\n",
       "    </tr>\n",
       "    <tr>\n",
       "      <th>Total Volume</th>\n",
       "      <td>18249.0</td>\n",
       "      <td>850644.013009</td>\n",
       "      <td>3.453545e+06</td>\n",
       "      <td>84.56</td>\n",
       "      <td>10838.58</td>\n",
       "      <td>107376.76</td>\n",
       "      <td>432962.29</td>\n",
       "      <td>62505646.52</td>\n",
       "    </tr>\n",
       "    <tr>\n",
       "      <th>4046</th>\n",
       "      <td>18249.0</td>\n",
       "      <td>293008.424531</td>\n",
       "      <td>1.264989e+06</td>\n",
       "      <td>0.00</td>\n",
       "      <td>854.07</td>\n",
       "      <td>8645.30</td>\n",
       "      <td>111020.20</td>\n",
       "      <td>22743616.17</td>\n",
       "    </tr>\n",
       "    <tr>\n",
       "      <th>4225</th>\n",
       "      <td>18249.0</td>\n",
       "      <td>295154.568356</td>\n",
       "      <td>1.204120e+06</td>\n",
       "      <td>0.00</td>\n",
       "      <td>3008.78</td>\n",
       "      <td>29061.02</td>\n",
       "      <td>150206.86</td>\n",
       "      <td>20470572.61</td>\n",
       "    </tr>\n",
       "    <tr>\n",
       "      <th>4770</th>\n",
       "      <td>18249.0</td>\n",
       "      <td>22839.735993</td>\n",
       "      <td>1.074641e+05</td>\n",
       "      <td>0.00</td>\n",
       "      <td>0.00</td>\n",
       "      <td>184.99</td>\n",
       "      <td>6243.42</td>\n",
       "      <td>2546439.11</td>\n",
       "    </tr>\n",
       "    <tr>\n",
       "      <th>Total Bags</th>\n",
       "      <td>18249.0</td>\n",
       "      <td>239639.202060</td>\n",
       "      <td>9.862424e+05</td>\n",
       "      <td>0.00</td>\n",
       "      <td>5088.64</td>\n",
       "      <td>39743.83</td>\n",
       "      <td>110783.37</td>\n",
       "      <td>19373134.37</td>\n",
       "    </tr>\n",
       "    <tr>\n",
       "      <th>Small Bags</th>\n",
       "      <td>18249.0</td>\n",
       "      <td>182194.686696</td>\n",
       "      <td>7.461785e+05</td>\n",
       "      <td>0.00</td>\n",
       "      <td>2849.42</td>\n",
       "      <td>26362.82</td>\n",
       "      <td>83337.67</td>\n",
       "      <td>13384586.80</td>\n",
       "    </tr>\n",
       "    <tr>\n",
       "      <th>Large Bags</th>\n",
       "      <td>18249.0</td>\n",
       "      <td>54338.088145</td>\n",
       "      <td>2.439660e+05</td>\n",
       "      <td>0.00</td>\n",
       "      <td>127.47</td>\n",
       "      <td>2647.71</td>\n",
       "      <td>22029.25</td>\n",
       "      <td>5719096.61</td>\n",
       "    </tr>\n",
       "    <tr>\n",
       "      <th>XLarge Bags</th>\n",
       "      <td>18249.0</td>\n",
       "      <td>3106.426507</td>\n",
       "      <td>1.769289e+04</td>\n",
       "      <td>0.00</td>\n",
       "      <td>0.00</td>\n",
       "      <td>0.00</td>\n",
       "      <td>132.50</td>\n",
       "      <td>551693.65</td>\n",
       "    </tr>\n",
       "    <tr>\n",
       "      <th>year</th>\n",
       "      <td>18249.0</td>\n",
       "      <td>2016.147899</td>\n",
       "      <td>9.399385e-01</td>\n",
       "      <td>2015.00</td>\n",
       "      <td>2015.00</td>\n",
       "      <td>2016.00</td>\n",
       "      <td>2017.00</td>\n",
       "      <td>2018.00</td>\n",
       "    </tr>\n",
       "  </tbody>\n",
       "</table>\n",
       "</div>"
      ],
      "text/plain": [
       "                count           mean           std      min       25%  \\\n",
       "AveragePrice  18249.0       1.405978  4.026766e-01     0.44      1.10   \n",
       "Total Volume  18249.0  850644.013009  3.453545e+06    84.56  10838.58   \n",
       "4046          18249.0  293008.424531  1.264989e+06     0.00    854.07   \n",
       "4225          18249.0  295154.568356  1.204120e+06     0.00   3008.78   \n",
       "4770          18249.0   22839.735993  1.074641e+05     0.00      0.00   \n",
       "Total Bags    18249.0  239639.202060  9.862424e+05     0.00   5088.64   \n",
       "Small Bags    18249.0  182194.686696  7.461785e+05     0.00   2849.42   \n",
       "Large Bags    18249.0   54338.088145  2.439660e+05     0.00    127.47   \n",
       "XLarge Bags   18249.0    3106.426507  1.769289e+04     0.00      0.00   \n",
       "year          18249.0    2016.147899  9.399385e-01  2015.00   2015.00   \n",
       "\n",
       "                    50%        75%          max  \n",
       "AveragePrice       1.37       1.66         3.25  \n",
       "Total Volume  107376.76  432962.29  62505646.52  \n",
       "4046            8645.30  111020.20  22743616.17  \n",
       "4225           29061.02  150206.86  20470572.61  \n",
       "4770             184.99    6243.42   2546439.11  \n",
       "Total Bags     39743.83  110783.37  19373134.37  \n",
       "Small Bags     26362.82   83337.67  13384586.80  \n",
       "Large Bags      2647.71   22029.25   5719096.61  \n",
       "XLarge Bags        0.00     132.50    551693.65  \n",
       "year            2016.00    2017.00      2018.00  "
      ]
     },
     "execution_count": 6,
     "metadata": {},
     "output_type": "execute_result"
    }
   ],
   "source": [
    "df.describe().T"
   ]
  },
  {
   "cell_type": "code",
   "execution_count": 7,
   "id": "180cbf32",
   "metadata": {},
   "outputs": [],
   "source": [
    "# conclude:\n",
    "\n",
    "# Multiple outliers in XLarge Bags,...\n",
    "# Soem of columns ahs a large difference between mean and 50%tile, means data is right skewed as well having outliers\n",
    "\n",
    "# Because of differnece between 75 % and max values, many features have outliers"
   ]
  },
  {
   "cell_type": "markdown",
   "id": "31f44d05",
   "metadata": {},
   "source": [
    "#NULL VALUES"
   ]
  },
  {
   "cell_type": "code",
   "execution_count": 8,
   "id": "85e001d4",
   "metadata": {},
   "outputs": [
    {
     "data": {
      "text/plain": [
       "Date            0\n",
       "AveragePrice    0\n",
       "Total Volume    0\n",
       "4046            0\n",
       "4225            0\n",
       "4770            0\n",
       "Total Bags      0\n",
       "Small Bags      0\n",
       "Large Bags      0\n",
       "XLarge Bags     0\n",
       "type            0\n",
       "year            0\n",
       "region          0\n",
       "dtype: int64"
      ]
     },
     "execution_count": 8,
     "metadata": {},
     "output_type": "execute_result"
    }
   ],
   "source": [
    "df.isnull().sum()"
   ]
  },
  {
   "cell_type": "code",
   "execution_count": 9,
   "id": "c1de487b",
   "metadata": {},
   "outputs": [
    {
     "data": {
      "text/plain": [
       "<AxesSubplot:>"
      ]
     },
     "execution_count": 9,
     "metadata": {},
     "output_type": "execute_result"
    },
    {
     "data": {
      "image/png": "[encoded data removed]",
      "text/plain": [
       "<Figure size 432x288 with 2 Axes>"
      ]
     },
     "metadata": {
      "needs_background": "light"
     },
     "output_type": "display_data"
    }
   ],
   "source": [
    "sns.heatmap(df.isnull())"
   ]
  },
  {
   "cell_type": "raw",
   "id": "c8af2d12",
   "metadata": {},
   "source": [
    "# No Null values present int he data"
   ]
  },
  {
   "cell_type": "code",
   "execution_count": 10,
   "id": "b46213cd",
   "metadata": {},
   "outputs": [
    {
     "data": {
      "text/html": [
       "<div>\n",
       "<style scoped>\n",
       "    .dataframe tbody tr th:only-of-type {\n",
       "        vertical-align: middle;\n",
       "    }\n",
       "\n",
       "    .dataframe tbody tr th {\n",
       "        vertical-align: top;\n",
       "    }\n",
       "\n",
       "    .dataframe thead th {\n",
       "        text-align: right;\n",
       "    }\n",
       "</style>\n",
       "<table border=\"1\" class=\"dataframe\">\n",
       "  <thead>\n",
       "    <tr style=\"text-align: right;\">\n",
       "      <th></th>\n",
       "      <th>Date</th>\n",
       "      <th>AveragePrice</th>\n",
       "      <th>Total Volume</th>\n",
       "      <th>4046</th>\n",
       "      <th>4225</th>\n",
       "      <th>4770</th>\n",
       "      <th>Total Bags</th>\n",
       "      <th>Small Bags</th>\n",
       "      <th>Large Bags</th>\n",
       "      <th>XLarge Bags</th>\n",
       "      <th>type</th>\n",
       "      <th>year</th>\n",
       "      <th>region</th>\n",
       "    </tr>\n",
       "  </thead>\n",
       "  <tbody>\n",
       "    <tr>\n",
       "      <th>0</th>\n",
       "      <td>27-12-2015</td>\n",
       "      <td>1.33</td>\n",
       "      <td>64236.62</td>\n",
       "      <td>1036.74</td>\n",
       "      <td>54454.85</td>\n",
       "      <td>48.16</td>\n",
       "      <td>8696.87</td>\n",
       "      <td>8603.62</td>\n",
       "      <td>93.25</td>\n",
       "      <td>0.0</td>\n",
       "      <td>conventional</td>\n",
       "      <td>2015</td>\n",
       "      <td>Albany</td>\n",
       "    </tr>\n",
       "    <tr>\n",
       "      <th>1</th>\n",
       "      <td>20-12-2015</td>\n",
       "      <td>1.35</td>\n",
       "      <td>54876.98</td>\n",
       "      <td>674.28</td>\n",
       "      <td>44638.81</td>\n",
       "      <td>58.33</td>\n",
       "      <td>9505.56</td>\n",
       "      <td>9408.07</td>\n",
       "      <td>97.49</td>\n",
       "      <td>0.0</td>\n",
       "      <td>conventional</td>\n",
       "      <td>2015</td>\n",
       "      <td>Albany</td>\n",
       "    </tr>\n",
       "  </tbody>\n",
       "</table>\n",
       "</div>"
      ],
      "text/plain": [
       "         Date  AveragePrice  Total Volume     4046      4225   4770  \\\n",
       "0  27-12-2015          1.33      64236.62  1036.74  54454.85  48.16   \n",
       "1  20-12-2015          1.35      54876.98   674.28  44638.81  58.33   \n",
       "\n",
       "   Total Bags  Small Bags  Large Bags  XLarge Bags          type  year  region  \n",
       "0     8696.87     8603.62       93.25          0.0  conventional  2015  Albany  \n",
       "1     9505.56     9408.07       97.49          0.0  conventional  2015  Albany  "
      ]
     },
     "execution_count": 10,
     "metadata": {},
     "output_type": "execute_result"
    }
   ],
   "source": [
    "df.head(2)"
   ]
  },
  {
   "cell_type": "code",
   "execution_count": 11,
   "id": "7bf1dabb",
   "metadata": {},
   "outputs": [
    {
     "data": {
      "text/plain": [
       "169"
      ]
     },
     "execution_count": 11,
     "metadata": {},
     "output_type": "execute_result"
    }
   ],
   "source": [
    "#Date:\n",
    "# Date - The date of the observation\n",
    "df['Date'].nunique()\n",
    "\n",
    "# 169 category out of 18249 records"
   ]
  },
  {
   "cell_type": "code",
   "execution_count": 12,
   "id": "341dff6f",
   "metadata": {},
   "outputs": [
    {
     "data": {
      "text/plain": [
       "<AxesSubplot:xlabel='AveragePrice', ylabel='Density'>"
      ]
     },
     "execution_count": 12,
     "metadata": {},
     "output_type": "execute_result"
    },
    {
     "data": {
      "image/png": "[encoded data removed]",
      "text/plain": [
       "<Figure size 432x288 with 1 Axes>"
      ]
     },
     "metadata": {
      "needs_background": "light"
     },
     "output_type": "display_data"
    }
   ],
   "source": [
    "# Average Price\n",
    "sns.distplot(df['AveragePrice'])"
   ]
  },
  {
   "cell_type": "code",
   "execution_count": 13,
   "id": "ac920220",
   "metadata": {},
   "outputs": [],
   "source": [
    "# Average price feature have right skewed data and, 2 bumps near mean"
   ]
  },
  {
   "cell_type": "code",
   "execution_count": 14,
   "id": "dba9612e",
   "metadata": {},
   "outputs": [
    {
     "data": {
      "text/plain": [
       "<AxesSubplot:xlabel='Total Volume', ylabel='year'>"
      ]
     },
     "execution_count": 14,
     "metadata": {},
     "output_type": "execute_result"
    },
    {
     "data": {
      "image/png": "[encoded data removed]",
      "text/plain": [
       "<Figure size 432x288 with 1 Axes>"
      ]
     },
     "metadata": {
      "needs_background": "light"
     },
     "output_type": "display_data"
    }
   ],
   "source": [
    "# Total Volume :   total number of avacado cold\n",
    "sns.scatterplot('Total Volume','year',data=df)"
   ]
  },
  {
   "cell_type": "code",
   "execution_count": 15,
   "id": "a73273a9",
   "metadata": {},
   "outputs": [
    {
     "data": {
      "text/plain": [
       "array([2015, 2016, 2017, 2018], dtype=int64)"
      ]
     },
     "execution_count": 15,
     "metadata": {},
     "output_type": "execute_result"
    }
   ],
   "source": [
    "# Year\n",
    "df['year'].unique()"
   ]
  },
  {
   "cell_type": "code",
   "execution_count": 16,
   "id": "2b310fe7",
   "metadata": {},
   "outputs": [],
   "source": [
    "# we have records of sales of Avacado in 2015-2018 year"
   ]
  },
  {
   "cell_type": "code",
   "execution_count": 17,
   "id": "96d9735d",
   "metadata": {},
   "outputs": [
    {
     "data": {
      "text/plain": [
       "<AxesSubplot:xlabel='year', ylabel='Total Volume'>"
      ]
     },
     "execution_count": 17,
     "metadata": {},
     "output_type": "execute_result"
    },
    {
     "data": {
      "image/png": "[encoded data removed]",
      "text/plain": [
       "<Figure size 432x288 with 1 Axes>"
      ]
     },
     "metadata": {
      "needs_background": "light"
     },
     "output_type": "display_data"
    }
   ],
   "source": [
    "sns.barplot(y='Total Volume',x='year', data=df)"
   ]
  },
  {
   "cell_type": "code",
   "execution_count": 18,
   "id": "22bdf257",
   "metadata": {},
   "outputs": [
    {
     "data": {
      "text/plain": [
       "year\n",
       "2015    4.385469e+09\n",
       "2016    4.820890e+09\n",
       "2017    4.934306e+09\n",
       "2018    1.382738e+09\n",
       "Name: Total Volume, dtype: float64"
      ]
     },
     "execution_count": 18,
     "metadata": {},
     "output_type": "execute_result"
    }
   ],
   "source": [
    "df.groupby('year')['Total Volume'].sum()"
   ]
  },
  {
   "cell_type": "code",
   "execution_count": 19,
   "id": "7e42e37c",
   "metadata": {},
   "outputs": [],
   "source": [
    "# Total avacado sales increases by year."
   ]
  },
  {
   "cell_type": "code",
   "execution_count": 20,
   "id": "d2cecc19",
   "metadata": {},
   "outputs": [
    {
     "data": {
      "text/html": [
       "<div>\n",
       "<style scoped>\n",
       "    .dataframe tbody tr th:only-of-type {\n",
       "        vertical-align: middle;\n",
       "    }\n",
       "\n",
       "    .dataframe tbody tr th {\n",
       "        vertical-align: top;\n",
       "    }\n",
       "\n",
       "    .dataframe thead th {\n",
       "        text-align: right;\n",
       "    }\n",
       "</style>\n",
       "<table border=\"1\" class=\"dataframe\">\n",
       "  <thead>\n",
       "    <tr style=\"text-align: right;\">\n",
       "      <th></th>\n",
       "      <th>Date</th>\n",
       "      <th>AveragePrice</th>\n",
       "      <th>Total Volume</th>\n",
       "      <th>4046</th>\n",
       "      <th>4225</th>\n",
       "      <th>4770</th>\n",
       "      <th>Total Bags</th>\n",
       "      <th>Small Bags</th>\n",
       "      <th>Large Bags</th>\n",
       "      <th>XLarge Bags</th>\n",
       "      <th>type</th>\n",
       "      <th>year</th>\n",
       "      <th>region</th>\n",
       "    </tr>\n",
       "  </thead>\n",
       "  <tbody>\n",
       "    <tr>\n",
       "      <th>0</th>\n",
       "      <td>27-12-2015</td>\n",
       "      <td>1.33</td>\n",
       "      <td>64236.62</td>\n",
       "      <td>1036.74</td>\n",
       "      <td>54454.85</td>\n",
       "      <td>48.16</td>\n",
       "      <td>8696.87</td>\n",
       "      <td>8603.62</td>\n",
       "      <td>93.25</td>\n",
       "      <td>0.0</td>\n",
       "      <td>conventional</td>\n",
       "      <td>2015</td>\n",
       "      <td>Albany</td>\n",
       "    </tr>\n",
       "    <tr>\n",
       "      <th>1</th>\n",
       "      <td>20-12-2015</td>\n",
       "      <td>1.35</td>\n",
       "      <td>54876.98</td>\n",
       "      <td>674.28</td>\n",
       "      <td>44638.81</td>\n",
       "      <td>58.33</td>\n",
       "      <td>9505.56</td>\n",
       "      <td>9408.07</td>\n",
       "      <td>97.49</td>\n",
       "      <td>0.0</td>\n",
       "      <td>conventional</td>\n",
       "      <td>2015</td>\n",
       "      <td>Albany</td>\n",
       "    </tr>\n",
       "  </tbody>\n",
       "</table>\n",
       "</div>"
      ],
      "text/plain": [
       "         Date  AveragePrice  Total Volume     4046      4225   4770  \\\n",
       "0  27-12-2015          1.33      64236.62  1036.74  54454.85  48.16   \n",
       "1  20-12-2015          1.35      54876.98   674.28  44638.81  58.33   \n",
       "\n",
       "   Total Bags  Small Bags  Large Bags  XLarge Bags          type  year  region  \n",
       "0     8696.87     8603.62       93.25          0.0  conventional  2015  Albany  \n",
       "1     9505.56     9408.07       97.49          0.0  conventional  2015  Albany  "
      ]
     },
     "execution_count": 20,
     "metadata": {},
     "output_type": "execute_result"
    }
   ],
   "source": [
    "df.head(2)"
   ]
  },
  {
   "cell_type": "code",
   "execution_count": 21,
   "id": "ed898e6e",
   "metadata": {},
   "outputs": [],
   "source": [
    "# Average price Exploration"
   ]
  },
  {
   "cell_type": "code",
   "execution_count": 22,
   "id": "7c75ef89",
   "metadata": {},
   "outputs": [
    {
     "data": {
      "text/plain": [
       "259"
      ]
     },
     "execution_count": 22,
     "metadata": {},
     "output_type": "execute_result"
    }
   ],
   "source": [
    "df['AveragePrice'].nunique()"
   ]
  },
  {
   "cell_type": "code",
   "execution_count": 23,
   "id": "a0bf3c53",
   "metadata": {},
   "outputs": [],
   "source": [
    "# we have 3 varity of avacade,  Product Lookup Code  PLU\n",
    "# 4046 , 4225 , 4770"
   ]
  },
  {
   "cell_type": "code",
   "execution_count": 24,
   "id": "68f61074",
   "metadata": {},
   "outputs": [
    {
     "data": {
      "text/plain": [
       "type\n",
       "conventional    1.158040\n",
       "organic         1.653999\n",
       "Name: AveragePrice, dtype: float64"
      ]
     },
     "execution_count": 24,
     "metadata": {},
     "output_type": "execute_result"
    }
   ],
   "source": [
    "# Find Average price by type of avacado\n",
    "\n",
    "df.groupby('type')['AveragePrice'].mean()"
   ]
  },
  {
   "cell_type": "code",
   "execution_count": 25,
   "id": "60406e08",
   "metadata": {},
   "outputs": [
    {
     "data": {
      "text/plain": [
       "([<matplotlib.patches.Wedge at 0x1bc887bb9d0>,\n",
       "  <matplotlib.patches.Wedge at 0x1bc887a0bb0>],\n",
       " [Text(0.300862058141864, 1.0580557745084338, 'conventional'),\n",
       "  Text(-0.30086215720419374, -1.0580557463396905, 'organic')],\n",
       " [Text(0.16410657716828944, 0.5771213315500547, '41.18%'),\n",
       "  Text(-0.1641066312022875, -0.5771213161852856, '58.82%')])"
      ]
     },
     "execution_count": 25,
     "metadata": {},
     "output_type": "execute_result"
    },
    {
     "data": {
      "image/png": "[encoded data removed]",
      "text/plain": [
       "<Figure size 432x288 with 1 Axes>"
      ]
     },
     "metadata": {},
     "output_type": "display_data"
    }
   ],
   "source": [
    "plt.pie( df.groupby('type')['AveragePrice'].mean().values, labels= df.groupby('type')['AveragePrice'].mean().index, autopct='%1.2f%%'  )"
   ]
  },
  {
   "cell_type": "code",
   "execution_count": 26,
   "id": "5c6e68f0",
   "metadata": {},
   "outputs": [],
   "source": [
    "# Organic avacado have high average price than conventional"
   ]
  },
  {
   "cell_type": "code",
   "execution_count": 27,
   "id": "7d11cfc2",
   "metadata": {},
   "outputs": [
    {
     "data": {
      "text/plain": [
       "type\n",
       "conventional    1.508722e+10\n",
       "organic         4.361817e+08\n",
       "Name: Total Volume, dtype: float64"
      ]
     },
     "execution_count": 27,
     "metadata": {},
     "output_type": "execute_result"
    }
   ],
   "source": [
    "\n",
    "# Which type sold more, if price have any impact on sold\n",
    "\n",
    "df.groupby('type')['Total Volume'].sum()"
   ]
  },
  {
   "cell_type": "code",
   "execution_count": 28,
   "id": "801f67fe",
   "metadata": {},
   "outputs": [],
   "source": [
    "# Conventional avacdo have more sale than organic"
   ]
  },
  {
   "cell_type": "code",
   "execution_count": 29,
   "id": "59bd2a50",
   "metadata": {},
   "outputs": [
    {
     "data": {
      "text/plain": [
       "array(['conventional', 'organic'], dtype=object)"
      ]
     },
     "execution_count": 29,
     "metadata": {},
     "output_type": "execute_result"
    }
   ],
   "source": [
    "df['type'].unique()"
   ]
  },
  {
   "cell_type": "code",
   "execution_count": 30,
   "id": "8d0a47e1",
   "metadata": {},
   "outputs": [
    {
     "data": {
      "text/plain": [
       "<AxesSubplot:xlabel='year', ylabel='Total Volume'>"
      ]
     },
     "execution_count": 30,
     "metadata": {},
     "output_type": "execute_result"
    },
    {
     "data": {
      "image/png": "[encoded data removed]",
      "text/plain": [
       "<Figure size 432x288 with 1 Axes>"
      ]
     },
     "metadata": {
      "needs_background": "light"
     },
     "output_type": "display_data"
    }
   ],
   "source": [
    "# Total sale by year by type\n",
    "sns.barplot(y='Total Volume',x='year',hue='type', data=df)"
   ]
  },
  {
   "cell_type": "code",
   "execution_count": 31,
   "id": "3e68ab0e",
   "metadata": {},
   "outputs": [],
   "source": [
    "\n",
    "# Sales of avacado increased by year"
   ]
  },
  {
   "cell_type": "code",
   "execution_count": 32,
   "id": "89930be5",
   "metadata": {},
   "outputs": [
    {
     "data": {
      "text/html": [
       "<div>\n",
       "<style scoped>\n",
       "    .dataframe tbody tr th:only-of-type {\n",
       "        vertical-align: middle;\n",
       "    }\n",
       "\n",
       "    .dataframe tbody tr th {\n",
       "        vertical-align: top;\n",
       "    }\n",
       "\n",
       "    .dataframe thead th {\n",
       "        text-align: right;\n",
       "    }\n",
       "</style>\n",
       "<table border=\"1\" class=\"dataframe\">\n",
       "  <thead>\n",
       "    <tr style=\"text-align: right;\">\n",
       "      <th></th>\n",
       "      <th>Date</th>\n",
       "      <th>AveragePrice</th>\n",
       "      <th>Total Volume</th>\n",
       "      <th>4046</th>\n",
       "      <th>4225</th>\n",
       "      <th>4770</th>\n",
       "      <th>Total Bags</th>\n",
       "      <th>Small Bags</th>\n",
       "      <th>Large Bags</th>\n",
       "      <th>XLarge Bags</th>\n",
       "      <th>type</th>\n",
       "      <th>year</th>\n",
       "      <th>region</th>\n",
       "    </tr>\n",
       "  </thead>\n",
       "  <tbody>\n",
       "    <tr>\n",
       "      <th>0</th>\n",
       "      <td>27-12-2015</td>\n",
       "      <td>1.33</td>\n",
       "      <td>64236.62</td>\n",
       "      <td>1036.74</td>\n",
       "      <td>54454.85</td>\n",
       "      <td>48.16</td>\n",
       "      <td>8696.87</td>\n",
       "      <td>8603.62</td>\n",
       "      <td>93.25</td>\n",
       "      <td>0.0</td>\n",
       "      <td>conventional</td>\n",
       "      <td>2015</td>\n",
       "      <td>Albany</td>\n",
       "    </tr>\n",
       "    <tr>\n",
       "      <th>1</th>\n",
       "      <td>20-12-2015</td>\n",
       "      <td>1.35</td>\n",
       "      <td>54876.98</td>\n",
       "      <td>674.28</td>\n",
       "      <td>44638.81</td>\n",
       "      <td>58.33</td>\n",
       "      <td>9505.56</td>\n",
       "      <td>9408.07</td>\n",
       "      <td>97.49</td>\n",
       "      <td>0.0</td>\n",
       "      <td>conventional</td>\n",
       "      <td>2015</td>\n",
       "      <td>Albany</td>\n",
       "    </tr>\n",
       "  </tbody>\n",
       "</table>\n",
       "</div>"
      ],
      "text/plain": [
       "         Date  AveragePrice  Total Volume     4046      4225   4770  \\\n",
       "0  27-12-2015          1.33      64236.62  1036.74  54454.85  48.16   \n",
       "1  20-12-2015          1.35      54876.98   674.28  44638.81  58.33   \n",
       "\n",
       "   Total Bags  Small Bags  Large Bags  XLarge Bags          type  year  region  \n",
       "0     8696.87     8603.62       93.25          0.0  conventional  2015  Albany  \n",
       "1     9505.56     9408.07       97.49          0.0  conventional  2015  Albany  "
      ]
     },
     "execution_count": 32,
     "metadata": {},
     "output_type": "execute_result"
    }
   ],
   "source": [
    "df.head(2)"
   ]
  },
  {
   "cell_type": "code",
   "execution_count": 33,
   "id": "6945055a",
   "metadata": {},
   "outputs": [
    {
     "data": {
      "text/plain": [
       "54"
      ]
     },
     "execution_count": 33,
     "metadata": {},
     "output_type": "execute_result"
    }
   ],
   "source": [
    "# Which type sold in which area\n",
    "\n",
    "df['region'].nunique()"
   ]
  },
  {
   "cell_type": "code",
   "execution_count": 34,
   "id": "610fbd86",
   "metadata": {},
   "outputs": [
    {
     "data": {
      "text/plain": [
       "region               type        \n",
       "Albany               conventional    1.348757\n",
       "                     organic         1.773314\n",
       "Atlanta              conventional    1.068817\n",
       "                     organic         1.607101\n",
       "BaltimoreWashington  conventional    1.344201\n",
       "                     organic         1.724260\n",
       "Boise                conventional    1.076036\n",
       "                     organic         1.620237\n",
       "Boston               conventional    1.304379\n",
       "                     organic         1.757396\n",
       "BuffaloRochester     conventional    1.382308\n",
       "                     organic         1.651361\n",
       "California           conventional    1.105444\n",
       "                     organic         1.685207\n",
       "Charlotte            conventional    1.275089\n",
       "                     organic         1.936982\n",
       "Chicago              conventional    1.369349\n",
       "                     organic         1.744201\n",
       "CincinnatiDayton     conventional    1.015503\n",
       "                     organic         1.402899\n",
       "Columbus             conventional    1.066272\n",
       "                     organic         1.439290\n",
       "DallasFtWorth        conventional    0.846450\n",
       "                     organic         1.324734\n",
       "Denver               conventional    1.073964\n",
       "                     organic         1.363195\n",
       "Detroit              conventional    1.123964\n",
       "                     organic         1.428225\n",
       "GrandRapids          conventional    1.325030\n",
       "                     organic         1.684970\n",
       "GreatLakes           conventional    1.181893\n",
       "                     organic         1.495207\n",
       "HarrisburgScranton   conventional    1.258817\n",
       "                     organic         1.767751\n",
       "HartfordSpringfield  conventional    1.408047\n",
       "                     organic         2.229231\n",
       "Houston              conventional    0.825089\n",
       "                     organic         1.270769\n",
       "Indianapolis         conventional    1.144852\n",
       "                     organic         1.483136\n",
       "Jacksonville         conventional    1.193609\n",
       "                     organic         1.828284\n",
       "LasVegas             conventional    1.012959\n",
       "                     organic         1.748876\n",
       "LosAngeles           conventional    0.976450\n",
       "                     organic         1.455562\n",
       "Louisville           conventional    1.105325\n",
       "                     organic         1.468047\n",
       "MiamiFtLauderdale    conventional    1.254320\n",
       "                     organic         1.602663\n",
       "Midsouth             conventional    1.207160\n",
       "                     organic         1.602367\n",
       "Nashville            conventional    1.012899\n",
       "                     organic         1.411302\n",
       "NewOrleansMobile     conventional    1.085266\n",
       "                     organic         1.524320\n",
       "NewYork              conventional    1.402130\n",
       "                     organic         2.053018\n",
       "Northeast            conventional    1.344438\n",
       "                     organic         1.859408\n",
       "Name: AveragePrice, dtype: float64"
      ]
     },
     "execution_count": 34,
     "metadata": {},
     "output_type": "execute_result"
    }
   ],
   "source": [
    "df.groupby(['region','type'])['AveragePrice'].mean().head(60)"
   ]
  },
  {
   "cell_type": "code",
   "execution_count": 35,
   "id": "386c10fd",
   "metadata": {},
   "outputs": [
    {
     "data": {
      "text/html": [
       "<div>\n",
       "<style scoped>\n",
       "    .dataframe tbody tr th:only-of-type {\n",
       "        vertical-align: middle;\n",
       "    }\n",
       "\n",
       "    .dataframe tbody tr th {\n",
       "        vertical-align: top;\n",
       "    }\n",
       "\n",
       "    .dataframe thead th {\n",
       "        text-align: right;\n",
       "    }\n",
       "</style>\n",
       "<table border=\"1\" class=\"dataframe\">\n",
       "  <thead>\n",
       "    <tr style=\"text-align: right;\">\n",
       "      <th></th>\n",
       "      <th>Date</th>\n",
       "      <th>AveragePrice</th>\n",
       "      <th>Total Volume</th>\n",
       "      <th>4046</th>\n",
       "      <th>4225</th>\n",
       "      <th>4770</th>\n",
       "      <th>Total Bags</th>\n",
       "      <th>Small Bags</th>\n",
       "      <th>Large Bags</th>\n",
       "      <th>XLarge Bags</th>\n",
       "      <th>type</th>\n",
       "      <th>year</th>\n",
       "      <th>region</th>\n",
       "    </tr>\n",
       "  </thead>\n",
       "  <tbody>\n",
       "    <tr>\n",
       "      <th>0</th>\n",
       "      <td>27-12-2015</td>\n",
       "      <td>1.33</td>\n",
       "      <td>64236.62</td>\n",
       "      <td>1036.74</td>\n",
       "      <td>54454.85</td>\n",
       "      <td>48.16</td>\n",
       "      <td>8696.87</td>\n",
       "      <td>8603.62</td>\n",
       "      <td>93.25</td>\n",
       "      <td>0.0</td>\n",
       "      <td>conventional</td>\n",
       "      <td>2015</td>\n",
       "      <td>Albany</td>\n",
       "    </tr>\n",
       "    <tr>\n",
       "      <th>1</th>\n",
       "      <td>20-12-2015</td>\n",
       "      <td>1.35</td>\n",
       "      <td>54876.98</td>\n",
       "      <td>674.28</td>\n",
       "      <td>44638.81</td>\n",
       "      <td>58.33</td>\n",
       "      <td>9505.56</td>\n",
       "      <td>9408.07</td>\n",
       "      <td>97.49</td>\n",
       "      <td>0.0</td>\n",
       "      <td>conventional</td>\n",
       "      <td>2015</td>\n",
       "      <td>Albany</td>\n",
       "    </tr>\n",
       "    <tr>\n",
       "      <th>2</th>\n",
       "      <td>13-12-2015</td>\n",
       "      <td>0.93</td>\n",
       "      <td>118220.22</td>\n",
       "      <td>794.70</td>\n",
       "      <td>109149.67</td>\n",
       "      <td>130.50</td>\n",
       "      <td>8145.35</td>\n",
       "      <td>8042.21</td>\n",
       "      <td>103.14</td>\n",
       "      <td>0.0</td>\n",
       "      <td>conventional</td>\n",
       "      <td>2015</td>\n",
       "      <td>Albany</td>\n",
       "    </tr>\n",
       "    <tr>\n",
       "      <th>3</th>\n",
       "      <td>06-12-2015</td>\n",
       "      <td>1.08</td>\n",
       "      <td>78992.15</td>\n",
       "      <td>1132.00</td>\n",
       "      <td>71976.41</td>\n",
       "      <td>72.58</td>\n",
       "      <td>5811.16</td>\n",
       "      <td>5677.40</td>\n",
       "      <td>133.76</td>\n",
       "      <td>0.0</td>\n",
       "      <td>conventional</td>\n",
       "      <td>2015</td>\n",
       "      <td>Albany</td>\n",
       "    </tr>\n",
       "    <tr>\n",
       "      <th>4</th>\n",
       "      <td>29-11-2015</td>\n",
       "      <td>1.28</td>\n",
       "      <td>51039.60</td>\n",
       "      <td>941.48</td>\n",
       "      <td>43838.39</td>\n",
       "      <td>75.78</td>\n",
       "      <td>6183.95</td>\n",
       "      <td>5986.26</td>\n",
       "      <td>197.69</td>\n",
       "      <td>0.0</td>\n",
       "      <td>conventional</td>\n",
       "      <td>2015</td>\n",
       "      <td>Albany</td>\n",
       "    </tr>\n",
       "  </tbody>\n",
       "</table>\n",
       "</div>"
      ],
      "text/plain": [
       "         Date  AveragePrice  Total Volume     4046       4225    4770  \\\n",
       "0  27-12-2015          1.33      64236.62  1036.74   54454.85   48.16   \n",
       "1  20-12-2015          1.35      54876.98   674.28   44638.81   58.33   \n",
       "2  13-12-2015          0.93     118220.22   794.70  109149.67  130.50   \n",
       "3  06-12-2015          1.08      78992.15  1132.00   71976.41   72.58   \n",
       "4  29-11-2015          1.28      51039.60   941.48   43838.39   75.78   \n",
       "\n",
       "   Total Bags  Small Bags  Large Bags  XLarge Bags          type  year  region  \n",
       "0     8696.87     8603.62       93.25          0.0  conventional  2015  Albany  \n",
       "1     9505.56     9408.07       97.49          0.0  conventional  2015  Albany  \n",
       "2     8145.35     8042.21      103.14          0.0  conventional  2015  Albany  \n",
       "3     5811.16     5677.40      133.76          0.0  conventional  2015  Albany  \n",
       "4     6183.95     5986.26      197.69          0.0  conventional  2015  Albany  "
      ]
     },
     "execution_count": 35,
     "metadata": {},
     "output_type": "execute_result"
    }
   ],
   "source": [
    "df.head(5)"
   ]
  },
  {
   "cell_type": "code",
   "execution_count": 36,
   "id": "ca4f453e",
   "metadata": {},
   "outputs": [
    {
     "data": {
      "text/plain": [
       "<AxesSubplot:xlabel='year', ylabel='AveragePrice'>"
      ]
     },
     "execution_count": 36,
     "metadata": {},
     "output_type": "execute_result"
    },
    {
     "data": {
      "image/png": "[encoded data removed]",
      "text/plain": [
       "<Figure size 432x288 with 1 Axes>"
      ]
     },
     "metadata": {
      "needs_background": "light"
     },
     "output_type": "display_data"
    }
   ],
   "source": [
    "sns.scatterplot('year','AveragePrice', data=df)\n"
   ]
  },
  {
   "cell_type": "code",
   "execution_count": 37,
   "id": "9026fcae",
   "metadata": {},
   "outputs": [
    {
     "data": {
      "text/plain": [
       "year\n",
       "2015    1.375590\n",
       "2016    1.338640\n",
       "2017    1.515128\n",
       "2018    1.347531\n",
       "Name: AveragePrice, dtype: float64"
      ]
     },
     "execution_count": 37,
     "metadata": {},
     "output_type": "execute_result"
    }
   ],
   "source": [
    "\n",
    "df.groupby('year')['AveragePrice'].mean()"
   ]
  },
  {
   "cell_type": "code",
   "execution_count": 38,
   "id": "82a1e938",
   "metadata": {},
   "outputs": [
    {
     "data": {
      "text/plain": [
       "[<matplotlib.lines.Line2D at 0x1bc89902400>]"
      ]
     },
     "execution_count": 38,
     "metadata": {},
     "output_type": "execute_result"
    },
    {
     "data": {
      "image/png": "[encoded data removed]",
      "text/plain": [
       "<Figure size 432x288 with 1 Axes>"
      ]
     },
     "metadata": {
      "needs_background": "light"
     },
     "output_type": "display_data"
    }
   ],
   "source": [
    "plt.plot(df.groupby('year')['AveragePrice'].mean().index, df.groupby('year')['AveragePrice'].mean().values  )"
   ]
  },
  {
   "cell_type": "code",
   "execution_count": 39,
   "id": "5dd95a25",
   "metadata": {},
   "outputs": [],
   "source": [
    "# Average price per year, seems average price was high during 2017, then 2015 is secound"
   ]
  },
  {
   "cell_type": "code",
   "execution_count": 40,
   "id": "2a88bd81",
   "metadata": {},
   "outputs": [
    {
     "data": {
      "text/plain": [
       "<AxesSubplot:xlabel='Total Volume', ylabel='AveragePrice'>"
      ]
     },
     "execution_count": 40,
     "metadata": {},
     "output_type": "execute_result"
    },
    {
     "data": {
      "image/png": "[encoded data removed]",
      "text/plain": [
       "<Figure size 432x288 with 1 Axes>"
      ]
     },
     "metadata": {
      "needs_background": "light"
     },
     "output_type": "display_data"
    }
   ],
   "source": [
    "sns.scatterplot('Total Volume','AveragePrice',hue='type',data=df)"
   ]
  },
  {
   "cell_type": "code",
   "execution_count": 41,
   "id": "26016e26",
   "metadata": {},
   "outputs": [],
   "source": [
    "# Average price was always high for organic avacado,"
   ]
  },
  {
   "cell_type": "code",
   "execution_count": 42,
   "id": "2c8579ec",
   "metadata": {},
   "outputs": [
    {
     "data": {
      "text/html": [
       "<div>\n",
       "<style scoped>\n",
       "    .dataframe tbody tr th:only-of-type {\n",
       "        vertical-align: middle;\n",
       "    }\n",
       "\n",
       "    .dataframe tbody tr th {\n",
       "        vertical-align: top;\n",
       "    }\n",
       "\n",
       "    .dataframe thead th {\n",
       "        text-align: right;\n",
       "    }\n",
       "</style>\n",
       "<table border=\"1\" class=\"dataframe\">\n",
       "  <thead>\n",
       "    <tr style=\"text-align: right;\">\n",
       "      <th></th>\n",
       "      <th>Date</th>\n",
       "      <th>AveragePrice</th>\n",
       "      <th>Total Volume</th>\n",
       "      <th>4046</th>\n",
       "      <th>4225</th>\n",
       "      <th>4770</th>\n",
       "      <th>Total Bags</th>\n",
       "      <th>Small Bags</th>\n",
       "      <th>Large Bags</th>\n",
       "      <th>XLarge Bags</th>\n",
       "      <th>type</th>\n",
       "      <th>year</th>\n",
       "      <th>region</th>\n",
       "    </tr>\n",
       "  </thead>\n",
       "  <tbody>\n",
       "    <tr>\n",
       "      <th>0</th>\n",
       "      <td>27-12-2015</td>\n",
       "      <td>1.33</td>\n",
       "      <td>64236.62</td>\n",
       "      <td>1036.74</td>\n",
       "      <td>54454.85</td>\n",
       "      <td>48.16</td>\n",
       "      <td>8696.87</td>\n",
       "      <td>8603.62</td>\n",
       "      <td>93.25</td>\n",
       "      <td>0.0</td>\n",
       "      <td>conventional</td>\n",
       "      <td>2015</td>\n",
       "      <td>Albany</td>\n",
       "    </tr>\n",
       "    <tr>\n",
       "      <th>1</th>\n",
       "      <td>20-12-2015</td>\n",
       "      <td>1.35</td>\n",
       "      <td>54876.98</td>\n",
       "      <td>674.28</td>\n",
       "      <td>44638.81</td>\n",
       "      <td>58.33</td>\n",
       "      <td>9505.56</td>\n",
       "      <td>9408.07</td>\n",
       "      <td>97.49</td>\n",
       "      <td>0.0</td>\n",
       "      <td>conventional</td>\n",
       "      <td>2015</td>\n",
       "      <td>Albany</td>\n",
       "    </tr>\n",
       "    <tr>\n",
       "      <th>2</th>\n",
       "      <td>13-12-2015</td>\n",
       "      <td>0.93</td>\n",
       "      <td>118220.22</td>\n",
       "      <td>794.70</td>\n",
       "      <td>109149.67</td>\n",
       "      <td>130.50</td>\n",
       "      <td>8145.35</td>\n",
       "      <td>8042.21</td>\n",
       "      <td>103.14</td>\n",
       "      <td>0.0</td>\n",
       "      <td>conventional</td>\n",
       "      <td>2015</td>\n",
       "      <td>Albany</td>\n",
       "    </tr>\n",
       "    <tr>\n",
       "      <th>3</th>\n",
       "      <td>06-12-2015</td>\n",
       "      <td>1.08</td>\n",
       "      <td>78992.15</td>\n",
       "      <td>1132.00</td>\n",
       "      <td>71976.41</td>\n",
       "      <td>72.58</td>\n",
       "      <td>5811.16</td>\n",
       "      <td>5677.40</td>\n",
       "      <td>133.76</td>\n",
       "      <td>0.0</td>\n",
       "      <td>conventional</td>\n",
       "      <td>2015</td>\n",
       "      <td>Albany</td>\n",
       "    </tr>\n",
       "    <tr>\n",
       "      <th>4</th>\n",
       "      <td>29-11-2015</td>\n",
       "      <td>1.28</td>\n",
       "      <td>51039.60</td>\n",
       "      <td>941.48</td>\n",
       "      <td>43838.39</td>\n",
       "      <td>75.78</td>\n",
       "      <td>6183.95</td>\n",
       "      <td>5986.26</td>\n",
       "      <td>197.69</td>\n",
       "      <td>0.0</td>\n",
       "      <td>conventional</td>\n",
       "      <td>2015</td>\n",
       "      <td>Albany</td>\n",
       "    </tr>\n",
       "  </tbody>\n",
       "</table>\n",
       "</div>"
      ],
      "text/plain": [
       "         Date  AveragePrice  Total Volume     4046       4225    4770  \\\n",
       "0  27-12-2015          1.33      64236.62  1036.74   54454.85   48.16   \n",
       "1  20-12-2015          1.35      54876.98   674.28   44638.81   58.33   \n",
       "2  13-12-2015          0.93     118220.22   794.70  109149.67  130.50   \n",
       "3  06-12-2015          1.08      78992.15  1132.00   71976.41   72.58   \n",
       "4  29-11-2015          1.28      51039.60   941.48   43838.39   75.78   \n",
       "\n",
       "   Total Bags  Small Bags  Large Bags  XLarge Bags          type  year  region  \n",
       "0     8696.87     8603.62       93.25          0.0  conventional  2015  Albany  \n",
       "1     9505.56     9408.07       97.49          0.0  conventional  2015  Albany  \n",
       "2     8145.35     8042.21      103.14          0.0  conventional  2015  Albany  \n",
       "3     5811.16     5677.40      133.76          0.0  conventional  2015  Albany  \n",
       "4     6183.95     5986.26      197.69          0.0  conventional  2015  Albany  "
      ]
     },
     "execution_count": 42,
     "metadata": {},
     "output_type": "execute_result"
    }
   ],
   "source": [
    "df.head()"
   ]
  },
  {
   "cell_type": "code",
   "execution_count": 43,
   "id": "e9c0188f",
   "metadata": {},
   "outputs": [
    {
     "data": {
      "text/plain": [
       "([<matplotlib.axis.YTick at 0x1bc89bba6d0>,\n",
       "  <matplotlib.axis.YTick at 0x1bc89bbff10>,\n",
       "  <matplotlib.axis.YTick at 0x1bc89bbf310>,\n",
       "  <matplotlib.axis.YTick at 0x1bc89b89430>,\n",
       "  <matplotlib.axis.YTick at 0x1bc89b89a60>,\n",
       "  <matplotlib.axis.YTick at 0x1bc89b83040>,\n",
       "  <matplotlib.axis.YTick at 0x1bc89b83700>,\n",
       "  <matplotlib.axis.YTick at 0x1bc89b83e50>,\n",
       "  <matplotlib.axis.YTick at 0x1bc899c35e0>,\n",
       "  <matplotlib.axis.YTick at 0x1bc899c3d30>,\n",
       "  <matplotlib.axis.YTick at 0x1bc899c3d90>,\n",
       "  <matplotlib.axis.YTick at 0x1bc89b83b50>],\n",
       " [Text(0, 0, ''),\n",
       "  Text(0, 0, ''),\n",
       "  Text(0, 0, ''),\n",
       "  Text(0, 0, ''),\n",
       "  Text(0, 0, ''),\n",
       "  Text(0, 0, ''),\n",
       "  Text(0, 0, ''),\n",
       "  Text(0, 0, ''),\n",
       "  Text(0, 0, ''),\n",
       "  Text(0, 0, ''),\n",
       "  Text(0, 0, ''),\n",
       "  Text(0, 0, '')])"
      ]
     },
     "execution_count": 43,
     "metadata": {},
     "output_type": "execute_result"
    },
    {
     "data": {
      "image/png": "[encoded data removed]",
      "text/plain": [
       "<Figure size 432x288 with 1 Axes>"
      ]
     },
     "metadata": {
      "needs_background": "light"
     },
     "output_type": "display_data"
    }
   ],
   "source": [
    "# Avacado category wise\n",
    "\n",
    "plt.bar(  ['4046','4225','4770'],[df['4046'].sum(),df['4225'].sum(),df['4770'].sum()])\n",
    "plt.yticks(range(1,6000000000,500000000))"
   ]
  },
  {
   "cell_type": "code",
   "execution_count": 44,
   "id": "b39ca2d4",
   "metadata": {},
   "outputs": [
    {
     "data": {
      "text/plain": [
       "5347110739.26"
      ]
     },
     "execution_count": 44,
     "metadata": {},
     "output_type": "execute_result"
    }
   ],
   "source": [
    "df['4046'].sum()"
   ]
  },
  {
   "cell_type": "code",
   "execution_count": 45,
   "id": "f07a709b",
   "metadata": {},
   "outputs": [
    {
     "data": {
      "text/plain": [
       "5386275717.93"
      ]
     },
     "execution_count": 45,
     "metadata": {},
     "output_type": "execute_result"
    }
   ],
   "source": [
    "df['4225'].sum()"
   ]
  },
  {
   "cell_type": "code",
   "execution_count": 46,
   "id": "a2d96d9d",
   "metadata": {},
   "outputs": [
    {
     "data": {
      "text/plain": [
       "416802342.12999994"
      ]
     },
     "execution_count": 46,
     "metadata": {},
     "output_type": "execute_result"
    }
   ],
   "source": [
    "df['4770'].sum()"
   ]
  },
  {
   "cell_type": "code",
   "execution_count": 47,
   "id": "4858d5f7",
   "metadata": {},
   "outputs": [],
   "source": [
    "# Type  4225  sold mostly, then 4046..  type 4770 is very less"
   ]
  },
  {
   "cell_type": "code",
   "execution_count": 48,
   "id": "9a60355c",
   "metadata": {},
   "outputs": [
    {
     "data": {
      "text/html": [
       "<div>\n",
       "<style scoped>\n",
       "    .dataframe tbody tr th:only-of-type {\n",
       "        vertical-align: middle;\n",
       "    }\n",
       "\n",
       "    .dataframe tbody tr th {\n",
       "        vertical-align: top;\n",
       "    }\n",
       "\n",
       "    .dataframe thead th {\n",
       "        text-align: right;\n",
       "    }\n",
       "</style>\n",
       "<table border=\"1\" class=\"dataframe\">\n",
       "  <thead>\n",
       "    <tr style=\"text-align: right;\">\n",
       "      <th></th>\n",
       "      <th>Date</th>\n",
       "      <th>AveragePrice</th>\n",
       "      <th>Total Volume</th>\n",
       "      <th>4046</th>\n",
       "      <th>4225</th>\n",
       "      <th>4770</th>\n",
       "      <th>Total Bags</th>\n",
       "      <th>Small Bags</th>\n",
       "      <th>Large Bags</th>\n",
       "      <th>XLarge Bags</th>\n",
       "      <th>type</th>\n",
       "      <th>year</th>\n",
       "      <th>region</th>\n",
       "    </tr>\n",
       "  </thead>\n",
       "  <tbody>\n",
       "    <tr>\n",
       "      <th>0</th>\n",
       "      <td>27-12-2015</td>\n",
       "      <td>1.33</td>\n",
       "      <td>64236.62</td>\n",
       "      <td>1036.74</td>\n",
       "      <td>54454.85</td>\n",
       "      <td>48.16</td>\n",
       "      <td>8696.87</td>\n",
       "      <td>8603.62</td>\n",
       "      <td>93.25</td>\n",
       "      <td>0.0</td>\n",
       "      <td>conventional</td>\n",
       "      <td>2015</td>\n",
       "      <td>Albany</td>\n",
       "    </tr>\n",
       "    <tr>\n",
       "      <th>1</th>\n",
       "      <td>20-12-2015</td>\n",
       "      <td>1.35</td>\n",
       "      <td>54876.98</td>\n",
       "      <td>674.28</td>\n",
       "      <td>44638.81</td>\n",
       "      <td>58.33</td>\n",
       "      <td>9505.56</td>\n",
       "      <td>9408.07</td>\n",
       "      <td>97.49</td>\n",
       "      <td>0.0</td>\n",
       "      <td>conventional</td>\n",
       "      <td>2015</td>\n",
       "      <td>Albany</td>\n",
       "    </tr>\n",
       "    <tr>\n",
       "      <th>2</th>\n",
       "      <td>13-12-2015</td>\n",
       "      <td>0.93</td>\n",
       "      <td>118220.22</td>\n",
       "      <td>794.70</td>\n",
       "      <td>109149.67</td>\n",
       "      <td>130.50</td>\n",
       "      <td>8145.35</td>\n",
       "      <td>8042.21</td>\n",
       "      <td>103.14</td>\n",
       "      <td>0.0</td>\n",
       "      <td>conventional</td>\n",
       "      <td>2015</td>\n",
       "      <td>Albany</td>\n",
       "    </tr>\n",
       "    <tr>\n",
       "      <th>3</th>\n",
       "      <td>06-12-2015</td>\n",
       "      <td>1.08</td>\n",
       "      <td>78992.15</td>\n",
       "      <td>1132.00</td>\n",
       "      <td>71976.41</td>\n",
       "      <td>72.58</td>\n",
       "      <td>5811.16</td>\n",
       "      <td>5677.40</td>\n",
       "      <td>133.76</td>\n",
       "      <td>0.0</td>\n",
       "      <td>conventional</td>\n",
       "      <td>2015</td>\n",
       "      <td>Albany</td>\n",
       "    </tr>\n",
       "    <tr>\n",
       "      <th>4</th>\n",
       "      <td>29-11-2015</td>\n",
       "      <td>1.28</td>\n",
       "      <td>51039.60</td>\n",
       "      <td>941.48</td>\n",
       "      <td>43838.39</td>\n",
       "      <td>75.78</td>\n",
       "      <td>6183.95</td>\n",
       "      <td>5986.26</td>\n",
       "      <td>197.69</td>\n",
       "      <td>0.0</td>\n",
       "      <td>conventional</td>\n",
       "      <td>2015</td>\n",
       "      <td>Albany</td>\n",
       "    </tr>\n",
       "  </tbody>\n",
       "</table>\n",
       "</div>"
      ],
      "text/plain": [
       "         Date  AveragePrice  Total Volume     4046       4225    4770  \\\n",
       "0  27-12-2015          1.33      64236.62  1036.74   54454.85   48.16   \n",
       "1  20-12-2015          1.35      54876.98   674.28   44638.81   58.33   \n",
       "2  13-12-2015          0.93     118220.22   794.70  109149.67  130.50   \n",
       "3  06-12-2015          1.08      78992.15  1132.00   71976.41   72.58   \n",
       "4  29-11-2015          1.28      51039.60   941.48   43838.39   75.78   \n",
       "\n",
       "   Total Bags  Small Bags  Large Bags  XLarge Bags          type  year  region  \n",
       "0     8696.87     8603.62       93.25          0.0  conventional  2015  Albany  \n",
       "1     9505.56     9408.07       97.49          0.0  conventional  2015  Albany  \n",
       "2     8145.35     8042.21      103.14          0.0  conventional  2015  Albany  \n",
       "3     5811.16     5677.40      133.76          0.0  conventional  2015  Albany  \n",
       "4     6183.95     5986.26      197.69          0.0  conventional  2015  Albany  "
      ]
     },
     "execution_count": 48,
     "metadata": {},
     "output_type": "execute_result"
    }
   ],
   "source": [
    "df.head()"
   ]
  },
  {
   "cell_type": "code",
   "execution_count": 49,
   "id": "aabafe6c",
   "metadata": {},
   "outputs": [
    {
     "data": {
      "text/plain": [
       "year  type        \n",
       "2015  conventional    2808\n",
       "      organic         2807\n",
       "2016  conventional    2808\n",
       "      organic         2808\n",
       "2017  conventional    2862\n",
       "      organic         2860\n",
       "2018  conventional     648\n",
       "      organic          648\n",
       "Name: type, dtype: int64"
      ]
     },
     "execution_count": 49,
     "metadata": {},
     "output_type": "execute_result"
    }
   ],
   "source": [
    "# how much avacaddo sell per year\n",
    "\n",
    "df.groupby('year')['type'].value_counts()"
   ]
  },
  {
   "cell_type": "code",
   "execution_count": 50,
   "id": "f6b6f8bc",
   "metadata": {},
   "outputs": [],
   "source": [
    "# Both type of avacado is present in almost same amount each year"
   ]
  },
  {
   "cell_type": "code",
   "execution_count": 51,
   "id": "56a51dbb",
   "metadata": {},
   "outputs": [
    {
     "data": {
      "text/plain": [
       "<AxesSubplot:xlabel='year', ylabel='AveragePrice'>"
      ]
     },
     "execution_count": 51,
     "metadata": {},
     "output_type": "execute_result"
    },
    {
     "data": {
      "image/png": "[encoded data removed]",
      "text/plain": [
       "<Figure size 432x288 with 1 Axes>"
      ]
     },
     "metadata": {
      "needs_background": "light"
     },
     "output_type": "display_data"
    }
   ],
   "source": [
    "sns.barplot(x='year',y='AveragePrice',data=df)"
   ]
  },
  {
   "cell_type": "code",
   "execution_count": 52,
   "id": "ec3f817a",
   "metadata": {},
   "outputs": [],
   "source": [
    "# as we have seen above, average price was more in 2017"
   ]
  },
  {
   "cell_type": "code",
   "execution_count": 53,
   "id": "1d0082d7",
   "metadata": {},
   "outputs": [
    {
     "ename": "AttributeError",
     "evalue": "Can only use .dt accessor with datetimelike values",
     "output_type": "error",
     "traceback": [
      "\u001b[1;31m---------------------------------------------------------------------------\u001b[0m",
      "\u001b[1;31mAttributeError\u001b[0m                            Traceback (most recent call last)",
      "\u001b[1;32m~\\AppData\\Local\\Temp/ipykernel_15788/600776914.py\u001b[0m in \u001b[0;36m<module>\u001b[1;34m\u001b[0m\n\u001b[1;32m----> 1\u001b[1;33m \u001b[0mdf\u001b[0m\u001b[1;33m[\u001b[0m\u001b[1;34m'Date'\u001b[0m\u001b[1;33m]\u001b[0m\u001b[1;33m.\u001b[0m\u001b[0mdt\u001b[0m\u001b[1;33m.\u001b[0m\u001b[0mday_name\u001b[0m\u001b[1;33m(\u001b[0m\u001b[1;33m)\u001b[0m\u001b[1;33m\u001b[0m\u001b[1;33m\u001b[0m\u001b[0m\n\u001b[0m",
      "\u001b[1;32m~\\anaconda3\\lib\\site-packages\\pandas\\core\\generic.py\u001b[0m in \u001b[0;36m__getattr__\u001b[1;34m(self, name)\u001b[0m\n\u001b[0;32m   5485\u001b[0m         ):\n\u001b[0;32m   5486\u001b[0m             \u001b[1;32mreturn\u001b[0m \u001b[0mself\u001b[0m\u001b[1;33m[\u001b[0m\u001b[0mname\u001b[0m\u001b[1;33m]\u001b[0m\u001b[1;33m\u001b[0m\u001b[1;33m\u001b[0m\u001b[0m\n\u001b[1;32m-> 5487\u001b[1;33m         \u001b[1;32mreturn\u001b[0m \u001b[0mobject\u001b[0m\u001b[1;33m.\u001b[0m\u001b[0m__getattribute__\u001b[0m\u001b[1;33m(\u001b[0m\u001b[0mself\u001b[0m\u001b[1;33m,\u001b[0m \u001b[0mname\u001b[0m\u001b[1;33m)\u001b[0m\u001b[1;33m\u001b[0m\u001b[1;33m\u001b[0m\u001b[0m\n\u001b[0m\u001b[0;32m   5488\u001b[0m \u001b[1;33m\u001b[0m\u001b[0m\n\u001b[0;32m   5489\u001b[0m     \u001b[1;32mdef\u001b[0m \u001b[0m__setattr__\u001b[0m\u001b[1;33m(\u001b[0m\u001b[0mself\u001b[0m\u001b[1;33m,\u001b[0m \u001b[0mname\u001b[0m\u001b[1;33m:\u001b[0m \u001b[0mstr\u001b[0m\u001b[1;33m,\u001b[0m \u001b[0mvalue\u001b[0m\u001b[1;33m)\u001b[0m \u001b[1;33m->\u001b[0m \u001b[1;32mNone\u001b[0m\u001b[1;33m:\u001b[0m\u001b[1;33m\u001b[0m\u001b[1;33m\u001b[0m\u001b[0m\n",
      "\u001b[1;32m~\\anaconda3\\lib\\site-packages\\pandas\\core\\accessor.py\u001b[0m in \u001b[0;36m__get__\u001b[1;34m(self, obj, cls)\u001b[0m\n\u001b[0;32m    179\u001b[0m             \u001b[1;31m# we're accessing the attribute of the class, i.e., Dataset.geo\u001b[0m\u001b[1;33m\u001b[0m\u001b[1;33m\u001b[0m\u001b[0m\n\u001b[0;32m    180\u001b[0m             \u001b[1;32mreturn\u001b[0m \u001b[0mself\u001b[0m\u001b[1;33m.\u001b[0m\u001b[0m_accessor\u001b[0m\u001b[1;33m\u001b[0m\u001b[1;33m\u001b[0m\u001b[0m\n\u001b[1;32m--> 181\u001b[1;33m         \u001b[0maccessor_obj\u001b[0m \u001b[1;33m=\u001b[0m \u001b[0mself\u001b[0m\u001b[1;33m.\u001b[0m\u001b[0m_accessor\u001b[0m\u001b[1;33m(\u001b[0m\u001b[0mobj\u001b[0m\u001b[1;33m)\u001b[0m\u001b[1;33m\u001b[0m\u001b[1;33m\u001b[0m\u001b[0m\n\u001b[0m\u001b[0;32m    182\u001b[0m         \u001b[1;31m# Replace the property with the accessor object. Inspired by:\u001b[0m\u001b[1;33m\u001b[0m\u001b[1;33m\u001b[0m\u001b[0m\n\u001b[0;32m    183\u001b[0m         \u001b[1;31m# https://www.pydanny.com/cached-property.html\u001b[0m\u001b[1;33m\u001b[0m\u001b[1;33m\u001b[0m\u001b[0m\n",
      "\u001b[1;32m~\\anaconda3\\lib\\site-packages\\pandas\\core\\indexes\\accessors.py\u001b[0m in \u001b[0;36m__new__\u001b[1;34m(cls, data)\u001b[0m\n\u001b[0;32m    504\u001b[0m             \u001b[1;32mreturn\u001b[0m \u001b[0mPeriodProperties\u001b[0m\u001b[1;33m(\u001b[0m\u001b[0mdata\u001b[0m\u001b[1;33m,\u001b[0m \u001b[0morig\u001b[0m\u001b[1;33m)\u001b[0m\u001b[1;33m\u001b[0m\u001b[1;33m\u001b[0m\u001b[0m\n\u001b[0;32m    505\u001b[0m \u001b[1;33m\u001b[0m\u001b[0m\n\u001b[1;32m--> 506\u001b[1;33m         \u001b[1;32mraise\u001b[0m \u001b[0mAttributeError\u001b[0m\u001b[1;33m(\u001b[0m\u001b[1;34m\"Can only use .dt accessor with datetimelike values\"\u001b[0m\u001b[1;33m)\u001b[0m\u001b[1;33m\u001b[0m\u001b[1;33m\u001b[0m\u001b[0m\n\u001b[0m",
      "\u001b[1;31mAttributeError\u001b[0m: Can only use .dt accessor with datetimelike values"
     ]
    }
   ],
   "source": [
    "df['Date'].dt.day_name()"
   ]
  },
  {
   "cell_type": "code",
   "execution_count": null,
   "id": "76b68b15",
   "metadata": {},
   "outputs": [],
   "source": [
    "df['Date'] = pd.to_datetime(df['Date'])"
   ]
  },
  {
   "cell_type": "code",
   "execution_count": null,
   "id": "97ef81c2",
   "metadata": {},
   "outputs": [],
   "source": [
    "df['Date'].dt.month"
   ]
  },
  {
   "cell_type": "code",
   "execution_count": null,
   "id": "1ee09125",
   "metadata": {},
   "outputs": [],
   "source": [
    "df['Month']=df['Date'].dt.month"
   ]
  },
  {
   "cell_type": "code",
   "execution_count": null,
   "id": "ac9317d4",
   "metadata": {},
   "outputs": [],
   "source": [
    "sns.barplot('Month','AveragePrice',data=df)"
   ]
  },
  {
   "cell_type": "code",
   "execution_count": null,
   "id": "99d62f41",
   "metadata": {},
   "outputs": [],
   "source": [
    "df.groupby('Month')['AveragePrice'].mean().sort_values()"
   ]
  },
  {
   "cell_type": "code",
   "execution_count": null,
   "id": "4b69a9ad",
   "metadata": {},
   "outputs": [],
   "source": [
    "# average price was high in July, august,sept,October months"
   ]
  },
  {
   "cell_type": "code",
   "execution_count": null,
   "id": "c15326cf",
   "metadata": {},
   "outputs": [],
   "source": [
    "plt.figure(figsize=(10,3))\n",
    "sns.lineplot('Month','AveragePrice',data=df)"
   ]
  },
  {
   "cell_type": "code",
   "execution_count": null,
   "id": "cc10f180",
   "metadata": {},
   "outputs": [],
   "source": [
    "plt.figure(figsize=(10,3))\n",
    "sns.lineplot('Month','AveragePrice',hue='type',data=df)"
   ]
  },
  {
   "cell_type": "code",
   "execution_count": null,
   "id": "197127fc",
   "metadata": {},
   "outputs": [],
   "source": [
    "# Conclusion:  Price hike for both type of avacado during 8,9,10 months"
   ]
  },
  {
   "cell_type": "code",
   "execution_count": null,
   "id": "ee9b92d3",
   "metadata": {},
   "outputs": [],
   "source": [
    "# Jan-FEB-March  is the season for avacado, so price is comapritvely low\n",
    "# in DEC, every one wants to clear stock for nre production , so price came down"
   ]
  },
  {
   "cell_type": "code",
   "execution_count": null,
   "id": "9ce63e6f",
   "metadata": {},
   "outputs": [],
   "source": [
    "df.hist(figsize=(10,10), bins=25)"
   ]
  },
  {
   "cell_type": "code",
   "execution_count": null,
   "id": "55e56cff",
   "metadata": {},
   "outputs": [],
   "source": [
    "# AveragePrice is almost normally distributed\n",
    "# other columns are right skewed"
   ]
  },
  {
   "cell_type": "code",
   "execution_count": null,
   "id": "999be5e7",
   "metadata": {},
   "outputs": [],
   "source": [
    "df.columns"
   ]
  },
  {
   "cell_type": "code",
   "execution_count": null,
   "id": "4fa0ee99",
   "metadata": {},
   "outputs": [],
   "source": [
    "# Total Bage are the sum of Small Bags + Large Bags + XLarge Bags"
   ]
  },
  {
   "cell_type": "code",
   "execution_count": null,
   "id": "4bdf4d48",
   "metadata": {},
   "outputs": [],
   "source": [
    "df['Total Bags'].sum()"
   ]
  },
  {
   "cell_type": "code",
   "execution_count": null,
   "id": "013228b3",
   "metadata": {},
   "outputs": [],
   "source": [
    "df['Small Bags'].sum() + df['Large Bags'].sum() +df['XLarge Bags'].sum()"
   ]
  },
  {
   "cell_type": "code",
   "execution_count": null,
   "id": "99df4120",
   "metadata": {},
   "outputs": [],
   "source": [
    "# we dnt need total bags column here, because it is captured by  other bags categtory"
   ]
  },
  {
   "cell_type": "markdown",
   "id": "e54f0090",
   "metadata": {},
   "source": [
    "# correlation"
   ]
  },
  {
   "cell_type": "code",
   "execution_count": null,
   "id": "0ee30268",
   "metadata": {},
   "outputs": [],
   "source": [
    "df.corr()"
   ]
  },
  {
   "cell_type": "code",
   "execution_count": null,
   "id": "4f846b8c",
   "metadata": {},
   "outputs": [],
   "source": [
    "correlation= list(df.columns)"
   ]
  },
  {
   "cell_type": "code",
   "execution_count": null,
   "id": "96d39a70",
   "metadata": {},
   "outputs": [],
   "source": [
    "correlation.pop(1)"
   ]
  },
  {
   "cell_type": "code",
   "execution_count": null,
   "id": "d8cc7181",
   "metadata": {},
   "outputs": [],
   "source": [
    "correlation.insert(14,'AveragePrice')"
   ]
  },
  {
   "cell_type": "code",
   "execution_count": null,
   "id": "ca665918",
   "metadata": {},
   "outputs": [],
   "source": [
    "corr=df[correlation]"
   ]
  },
  {
   "cell_type": "code",
   "execution_count": null,
   "id": "a97f999a",
   "metadata": {},
   "outputs": [],
   "source": [
    "plt.figure(figsize=(10,8))\n",
    "sns.heatmap(corr.corr(), annot=True, linecolor='white',linewidths=.25)"
   ]
  },
  {
   "cell_type": "markdown",
   "id": "120ec58e",
   "metadata": {},
   "source": [
    "# Target variable is Average Price"
   ]
  },
  {
   "cell_type": "code",
   "execution_count": null,
   "id": "3c088c0b",
   "metadata": {},
   "outputs": [],
   "source": [
    "# correlation:  almost all features are negatively low correlated, \n",
    "# while year and month are positively low correlated"
   ]
  },
  {
   "cell_type": "code",
   "execution_count": null,
   "id": "f2d7c173",
   "metadata": {},
   "outputs": [],
   "source": [
    "# much more independent features are highly correlated to each other, lets fine VIF\n",
    "# Year is very low correlated with average price"
   ]
  },
  {
   "cell_type": "markdown",
   "id": "8f500ffd",
   "metadata": {},
   "source": [
    "# VIF to find multi colinearity"
   ]
  },
  {
   "cell_type": "code",
   "execution_count": null,
   "id": "6ae5085e",
   "metadata": {},
   "outputs": [],
   "source": [
    "df.columns"
   ]
  },
  {
   "cell_type": "code",
   "execution_count": null,
   "id": "56e7cbc4",
   "metadata": {},
   "outputs": [],
   "source": [
    "d=df.drop(['Date','type','region','AveragePrice','Total Bags','year'], axis=1)\n",
    "d"
   ]
  },
  {
   "cell_type": "code",
   "execution_count": null,
   "id": "f07d0a8a",
   "metadata": {},
   "outputs": [],
   "source": [
    "sns.heatmap(d.corr(),annot=True)"
   ]
  },
  {
   "cell_type": "code",
   "execution_count": null,
   "id": "3afcba37",
   "metadata": {},
   "outputs": [],
   "source": [
    "from sklearn.preprocessing import StandardScaler\n",
    "sc= StandardScaler()\n",
    "scaled= sc.fit_transform(d)"
   ]
  },
  {
   "cell_type": "code",
   "execution_count": null,
   "id": "ab275c18",
   "metadata": {},
   "outputs": [],
   "source": [
    "scaled"
   ]
  },
  {
   "cell_type": "code",
   "execution_count": null,
   "id": "054a374a",
   "metadata": {},
   "outputs": [],
   "source": [
    "from statsmodels.stats.outliers_influence import variance_inflation_factor"
   ]
  },
  {
   "cell_type": "code",
   "execution_count": null,
   "id": "cf4cdb9d",
   "metadata": {},
   "outputs": [],
   "source": [
    "VIF= pd.DataFrame()\n",
    "VIF['features']= d.columns"
   ]
  },
  {
   "cell_type": "code",
   "execution_count": null,
   "id": "9cf5ffb0",
   "metadata": {},
   "outputs": [],
   "source": [
    "VIF['vif']= [variance_inflation_factor(d.values,i) for i in range(len(d.columns))]\n",
    "VIF"
   ]
  },
  {
   "cell_type": "code",
   "execution_count": null,
   "id": "91f299d5",
   "metadata": {},
   "outputs": [],
   "source": [
    "df.head(5)"
   ]
  },
  {
   "cell_type": "code",
   "execution_count": null,
   "id": "4476e9d7",
   "metadata": {},
   "outputs": [],
   "source": [
    "# However some independent are highly correlated to each other but we cant drop those features because they provide different kind of information to predict ave"
   ]
  },
  {
   "cell_type": "code",
   "execution_count": null,
   "id": "be592df6",
   "metadata": {},
   "outputs": [],
   "source": [
    "df.columns"
   ]
  },
  {
   "cell_type": "markdown",
   "id": "49a20486",
   "metadata": {},
   "source": [
    "# outliers"
   ]
  },
  {
   "cell_type": "code",
   "execution_count": null,
   "id": "81971cb0",
   "metadata": {},
   "outputs": [],
   "source": [
    "num= df.select_dtypes(np.number)"
   ]
  },
  {
   "cell_type": "code",
   "execution_count": null,
   "id": "c527e8be",
   "metadata": {},
   "outputs": [],
   "source": [
    "num.skew()"
   ]
  },
  {
   "cell_type": "code",
   "execution_count": null,
   "id": "d0884b9e",
   "metadata": {},
   "outputs": [],
   "source": [
    "# data is skewed"
   ]
  },
  {
   "cell_type": "code",
   "execution_count": null,
   "id": "fd340911",
   "metadata": {},
   "outputs": [],
   "source": [
    "df.plot(kind='box', subplots=True, layout=(4,5),figsize=(15,10))"
   ]
  },
  {
   "cell_type": "code",
   "execution_count": null,
   "id": "706dcb71",
   "metadata": {},
   "outputs": [],
   "source": [
    "for i in num:\n",
    "    sns.boxplot(df[i])\n",
    "    plt.show()"
   ]
  },
  {
   "cell_type": "code",
   "execution_count": null,
   "id": "dee22961",
   "metadata": {},
   "outputs": [],
   "source": [
    "# All columns have outliers except, year and month"
   ]
  },
  {
   "cell_type": "code",
   "execution_count": null,
   "id": "028d31cc",
   "metadata": {},
   "outputs": [],
   "source": [
    "#lets handle"
   ]
  },
  {
   "cell_type": "code",
   "execution_count": null,
   "id": "6aa92561",
   "metadata": {},
   "outputs": [],
   "source": [
    "from scipy.stats import zscore\n",
    "\n",
    "# calculate z score\n",
    "z=np.abs(zscore(num))\n",
    "print(z)"
   ]
  },
  {
   "cell_type": "code",
   "execution_count": null,
   "id": "18cbc6de",
   "metadata": {},
   "outputs": [],
   "source": [
    "threshold=3\n",
    "print(np.where(z<3))\n",
    "print(num.shape)"
   ]
  },
  {
   "cell_type": "code",
   "execution_count": null,
   "id": "ad815bad",
   "metadata": {},
   "outputs": [],
   "source": [
    "# assign the value to df_new which are less the threshold\n",
    "data= df[(z<3).all(axis=1)]"
   ]
  },
  {
   "cell_type": "code",
   "execution_count": null,
   "id": "96d296ea",
   "metadata": {},
   "outputs": [],
   "source": [
    "data.head()"
   ]
  },
  {
   "cell_type": "code",
   "execution_count": null,
   "id": "bc7e1cd4",
   "metadata": {},
   "outputs": [],
   "source": [
    "data.shape"
   ]
  },
  {
   "cell_type": "code",
   "execution_count": null,
   "id": "8e288f80",
   "metadata": {},
   "outputs": [],
   "source": [
    "# Decide to remove ooutliers here.\n",
    "df.shape[0]-data.shape[0]"
   ]
  },
  {
   "cell_type": "code",
   "execution_count": null,
   "id": "a4f44654",
   "metadata": {},
   "outputs": [],
   "source": [
    "# 467 records have been deleted as outliers\n"
   ]
  },
  {
   "cell_type": "code",
   "execution_count": null,
   "id": "3bdb7fcc",
   "metadata": {},
   "outputs": [],
   "source": [
    "num_new=data.drop(['AveragePrice','Date','type','region'], axis=1)"
   ]
  },
  {
   "cell_type": "code",
   "execution_count": null,
   "id": "a63570b6",
   "metadata": {},
   "outputs": [],
   "source": [
    "num_new.skew()"
   ]
  },
  {
   "cell_type": "code",
   "execution_count": null,
   "id": "b3940eb7",
   "metadata": {},
   "outputs": [],
   "source": [
    "num_new.head(2)"
   ]
  },
  {
   "cell_type": "code",
   "execution_count": null,
   "id": "788065cc",
   "metadata": {},
   "outputs": [],
   "source": [
    "num_new.shape"
   ]
  },
  {
   "cell_type": "code",
   "execution_count": null,
   "id": "31122a47",
   "metadata": {},
   "outputs": [],
   "source": [
    "Y=data['AveragePrice']\n",
    "Y.shape"
   ]
  },
  {
   "cell_type": "markdown",
   "id": "8faecf49",
   "metadata": {},
   "source": [
    "# Transformation to remove skewness"
   ]
  },
  {
   "cell_type": "code",
   "execution_count": null,
   "id": "cee3a946",
   "metadata": {},
   "outputs": [],
   "source": [
    "from sklearn.preprocessing import power_transform\n",
    "transformed=power_transform(num_new)"
   ]
  },
  {
   "cell_type": "code",
   "execution_count": null,
   "id": "1eaad4d1",
   "metadata": {},
   "outputs": [],
   "source": [
    "transformed=pd.DataFrame(transformed)\n",
    "transformed.columns=num_new.columns"
   ]
  },
  {
   "cell_type": "code",
   "execution_count": null,
   "id": "1df77d57",
   "metadata": {},
   "outputs": [],
   "source": [
    "transformed.skew()"
   ]
  },
  {
   "cell_type": "code",
   "execution_count": null,
   "id": "7d7a75b8",
   "metadata": {},
   "outputs": [],
   "source": [
    "# It has reduced skewness very well"
   ]
  },
  {
   "cell_type": "code",
   "execution_count": null,
   "id": "35e2d7af",
   "metadata": {},
   "outputs": [],
   "source": [
    "transformed.head(3)"
   ]
  },
  {
   "cell_type": "code",
   "execution_count": null,
   "id": "63f0856f",
   "metadata": {},
   "outputs": [],
   "source": [
    "transformed.shape"
   ]
  },
  {
   "cell_type": "markdown",
   "id": "de6f6af6",
   "metadata": {},
   "source": [
    "# PCA to handle Dimentionality Reduction"
   ]
  },
  {
   "cell_type": "code",
   "execution_count": null,
   "id": "61aa3060",
   "metadata": {},
   "outputs": [],
   "source": [
    "#pcs_data=df.select_dtypes(np.number)&#pcs_data.shape"
   ]
  },
  {
   "cell_type": "code",
   "execution_count": null,
   "id": "2a151d1d",
   "metadata": {},
   "outputs": [],
   "source": [
    "from sklearn.preprocessing import StandardScaler\n",
    "sc= StandardScaler()\n",
    "scaled= sc.fit_transform(transformed)"
   ]
  },
  {
   "cell_type": "code",
   "execution_count": null,
   "id": "d66bd41a",
   "metadata": {},
   "outputs": [],
   "source": [
    "from sklearn.decomposition import PCA\n",
    "pca= PCA()"
   ]
  },
  {
   "cell_type": "code",
   "execution_count": null,
   "id": "624f0451",
   "metadata": {},
   "outputs": [],
   "source": [
    "principal_component=pca.fit_transform(scaled)"
   ]
  },
  {
   "cell_type": "code",
   "execution_count": null,
   "id": "c83b348c",
   "metadata": {},
   "outputs": [],
   "source": [
    "plt.figure()\n",
    "plt.plot(np.cumsum(pca.explained_variance_ratio_))\n",
    "plt.xlabel('no of component')\n",
    "plt.ylabel('variance (%)')\n",
    "plt.title('explained variance')\n",
    "plt.show()\n"
   ]
  },
  {
   "cell_type": "code",
   "execution_count": null,
   "id": "aa0d1f8b",
   "metadata": {},
   "outputs": [],
   "source": [
    "# Graph shows 7 components has explained 97% variance of all features, so use 7"
   ]
  },
  {
   "cell_type": "code",
   "execution_count": null,
   "id": "f5866135",
   "metadata": {},
   "outputs": [],
   "source": [
    "pca=PCA(n_components=7)"
   ]
  },
  {
   "cell_type": "code",
   "execution_count": null,
   "id": "12714165",
   "metadata": {},
   "outputs": [],
   "source": [
    "new_data= pca.fit_transform(scaled)\n",
    "principal_x= pd.DataFrame(new_data,columns=['PC1','PC2','PC3','PC4','PC5','PC6','PC7'])"
   ]
  },
  {
   "cell_type": "code",
   "execution_count": null,
   "id": "ac58649b",
   "metadata": {},
   "outputs": [],
   "source": [
    "principal_x"
   ]
  },
  {
   "cell_type": "markdown",
   "id": "86089bd5",
   "metadata": {},
   "source": [
    "# Encoding of categoricl data"
   ]
  },
  {
   "cell_type": "code",
   "execution_count": null,
   "id": "0cd11d24",
   "metadata": {},
   "outputs": [],
   "source": [
    "# we will drop Date column, because we have already extracted year and month from it.\n",
    "\n",
    "#df.select_dtypes('O')  #  these are nominal categorical features"
   ]
  },
  {
   "cell_type": "code",
   "execution_count": null,
   "id": "52cdd8b1",
   "metadata": {},
   "outputs": [],
   "source": [
    "df['region'].nunique()"
   ]
  },
  {
   "cell_type": "code",
   "execution_count": null,
   "id": "136c8578",
   "metadata": {},
   "outputs": [],
   "source": [
    "df['region'].unique()"
   ]
  },
  {
   "cell_type": "markdown",
   "id": "a3c2e499",
   "metadata": {},
   "source": [
    "# Binary Encoding"
   ]
  },
  {
   "cell_type": "code",
   "execution_count": null,
   "id": "e0ac0b39",
   "metadata": {},
   "outputs": [],
   "source": [
    "cat= data[['type','region']]\n",
    "cat"
   ]
  },
  {
   "cell_type": "code",
   "execution_count": null,
   "id": "a52233ba",
   "metadata": {},
   "outputs": [],
   "source": [
    "# remove rows having outliers for numerical columns"
   ]
  },
  {
   "cell_type": "code",
   "execution_count": null,
   "id": "c8815e3c",
   "metadata": {},
   "outputs": [],
   "source": [
    "pip install category_encoders"
   ]
  },
  {
   "cell_type": "code",
   "execution_count": null,
   "id": "3fd2ca4c",
   "metadata": {},
   "outputs": [],
   "source": [
    "import category_encoders as ce"
   ]
  },
  {
   "cell_type": "code",
   "execution_count": null,
   "id": "df09c5cb",
   "metadata": {},
   "outputs": [],
   "source": [
    "encoder= ce.BinaryEncoder(cols=['type','region'],return_df=True)"
   ]
  },
  {
   "cell_type": "code",
   "execution_count": null,
   "id": "3b551a5f",
   "metadata": {},
   "outputs": [],
   "source": [
    "# Fit and Trabsform data\n",
    "\n",
    "data_encoded= encoder.fit_transform(cat)\n",
    "data_encoded"
   ]
  },
  {
   "cell_type": "markdown",
   "id": "19b89f8c",
   "metadata": {},
   "source": [
    "# BaseN Encoding"
   ]
  },
  {
   "cell_type": "code",
   "execution_count": null,
   "id": "52aecb7a",
   "metadata": {},
   "outputs": [],
   "source": [
    "encoder_N= ce.BaseNEncoder(cols=['type','region'],return_df=True,base=5)\n",
    "data_encoded_basen= encoder_N.fit_transform(cat)\n",
    "data_encoded_basen"
   ]
  },
  {
   "cell_type": "code",
   "execution_count": null,
   "id": "360ca626",
   "metadata": {},
   "outputs": [],
   "source": [
    "# Binary encoding have 8 columns while BaseN have 4 columns"
   ]
  },
  {
   "cell_type": "code",
   "execution_count": null,
   "id": "33262735",
   "metadata": {},
   "outputs": [],
   "source": [
    "# Standardize categorical data as well\n"
   ]
  },
  {
   "cell_type": "code",
   "execution_count": null,
   "id": "36e5918e",
   "metadata": {},
   "outputs": [],
   "source": [
    "st= StandardScaler()\n",
    "scaled_cat=st.fit_transform(data_encoded_basen)\n",
    "scaled_cat= pd.DataFrame(scaled_cat)\n",
    "scaled_cat.columns= data_encoded_basen.columns\n",
    "scaled_cat"
   ]
  },
  {
   "cell_type": "code",
   "execution_count": null,
   "id": "bb4903e6",
   "metadata": {},
   "outputs": [],
   "source": [
    "principal_x.shape  , scaled_cat.shape"
   ]
  },
  {
   "cell_type": "code",
   "execution_count": null,
   "id": "6118b441",
   "metadata": {},
   "outputs": [],
   "source": [
    "data_encoded.shape"
   ]
  },
  {
   "cell_type": "code",
   "execution_count": null,
   "id": "bc154e3d",
   "metadata": {},
   "outputs": [],
   "source": [
    "X=pd.concat([principal_x,scaled_cat],axis=1,join='inner')"
   ]
  },
  {
   "cell_type": "code",
   "execution_count": null,
   "id": "fee8612a",
   "metadata": {},
   "outputs": [],
   "source": [
    "X1=pd.concat([principal_x,data_encoded],axis=1,join='inner')"
   ]
  },
  {
   "cell_type": "code",
   "execution_count": null,
   "id": "1f64f8fe",
   "metadata": {},
   "outputs": [],
   "source": [
    "principal_x.shape  , data_encoded.shape"
   ]
  },
  {
   "cell_type": "code",
   "execution_count": null,
   "id": "ae4e56d7",
   "metadata": {},
   "outputs": [],
   "source": [
    "X.shape"
   ]
  },
  {
   "cell_type": "code",
   "execution_count": null,
   "id": "bbe9fe7c",
   "metadata": {},
   "outputs": [],
   "source": [
    "X1.shape"
   ]
  },
  {
   "cell_type": "code",
   "execution_count": null,
   "id": "216d834d",
   "metadata": {},
   "outputs": [],
   "source": [
    "# remove records with outlier"
   ]
  },
  {
   "cell_type": "code",
   "execution_count": null,
   "id": "4572928b",
   "metadata": {},
   "outputs": [],
   "source": [
    "Y= df['AveragePrice']\n",
    "Y= Y[(z<3).all(axis=1)]\n",
    "X.shape , Y.shape"
   ]
  },
  {
   "cell_type": "markdown",
   "id": "c2213862",
   "metadata": {},
   "source": [
    "# Machine Learning"
   ]
  },
  {
   "cell_type": "code",
   "execution_count": null,
   "id": "4da71637",
   "metadata": {},
   "outputs": [],
   "source": [
    "# Its a Regression problem coz output variable have continuous data, Average Price\n",
    "from sklearn.model_selection import train_test_split\n",
    "from sklearn.linear_model import LinearRegression\n",
    "from sklearn.metrics import r2_score,mean_absolute_error,mean_squared_error\n",
    "\n",
    "LR= LinearRegression()"
   ]
  },
  {
   "cell_type": "code",
   "execution_count": null,
   "id": "98321a14",
   "metadata": {},
   "outputs": [],
   "source": [
    "# Train Test Split / finding best random_state for my model\n",
    "\n",
    "for i in range(0,200):\n",
    "    x_train,x_test,y_train,y_test= train_test_split(X,Y,random_state=i,test_size=.3)\n",
    "    LR.fit(x_train,y_train)\n",
    "    train_pred=LR.predict(x_train)\n",
    "    test_pred=LR.predict(x_test)\n",
    "    if round(r2_score(y_test,test_pred),2)==round(r2_score(y_train,train_pred),2):\n",
    "        print(\"At random state \", i, \"The model performance very well\")\n",
    "        print(\"At random state: \",i)\n",
    "        print(\"Test R2 score is: \", round(r2_score(y_test,test_pred),2))\n",
    "        print('Train R2 score is: ', round(r2_score(y_train,train_pred),2))\n",
    "        print('X'*50,'\\n')"
   ]
  },
  {
   "cell_type": "code",
   "execution_count": null,
   "id": "91054715",
   "metadata": {},
   "outputs": [],
   "source": [
    "# Lets select random state= 125"
   ]
  },
  {
   "cell_type": "code",
   "execution_count": null,
   "id": "1e509ef9",
   "metadata": {},
   "outputs": [],
   "source": [
    "x_train,x_test,y_train,y_test= train_test_split(X,Y,random_state=125,test_size=.2)\n",
    "LR.fit(x_train,y_train)"
   ]
  },
  {
   "cell_type": "code",
   "execution_count": null,
   "id": "c93f2936",
   "metadata": {},
   "outputs": [],
   "source": [
    "from sklearn.linear_model import LinearRegression\n",
    "from sklearn.linear_model import Ridge, Lasso\n",
    "from sklearn.tree import DecisionTreeRegressor\n",
    "from sklearn.svm import SVR\n",
    "from sklearn.neighbors import KNeighborsRegressor\n",
    "from sklearn.ensemble import RandomForestRegressor\n",
    "from sklearn.linear_model import ElasticNet\n",
    "from sklearn.linear_model import SGDRegressor\n",
    "from sklearn.ensemble import BaggingRegressor\n",
    "from sklearn.ensemble import AdaBoostRegressor\n",
    "from sklearn.ensemble import GradientBoostingRegressor"
   ]
  },
  {
   "cell_type": "code",
   "execution_count": null,
   "id": "8fa79e89",
   "metadata": {},
   "outputs": [],
   "source": [
    "LR_model= LinearRegression()\n",
    "RD_model= Ridge()\n",
    "LS_model= Lasso()\n",
    "DT_model= DecisionTreeRegressor()\n",
    "SV_model= SVR()\n",
    "KNR_model= KNeighborsRegressor()\n",
    "RFR_model= RandomForestRegressor()\n",
    "Elastic_model= ElasticNet()\n",
    "SGH_model= SGDRegressor()\n",
    "Bag_model=BaggingRegressor()\n",
    "ADA_model=AdaBoostRegressor()\n",
    "GB_model= GradientBoostingRegressor()\n",
    "\n",
    "model=[LR_model,RD_model,LS_model,DT_model,SV_model,KNR_model,RFR_model,Elastic_model,SGH_model,Bag_model,ADA_model,GB_model ]"
   ]
  },
  {
   "cell_type": "code",
   "execution_count": null,
   "id": "c7acd983",
   "metadata": {},
   "outputs": [],
   "source": [
    "for m in model:\n",
    "    m.fit(x_train,y_train)\n",
    "    print('mean_absolute_error of ',m ,'model', mean_absolute_error(y_test,m.predict(x_test)))\n",
    "    print('mean_square_error of',m,'model' , mean_squared_error(y_test,m.predict(x_test)))\n",
    "    print('R2 Score of',m,'model', r2_score(y_test,m.predict(x_test) )*100)\n",
    "    print('X' * 50, '\\n\\n')"
   ]
  },
  {
   "cell_type": "markdown",
   "id": "47bd5c3a",
   "metadata": {},
   "source": [
    "# CONFUSION MATRIX CROSS Validation"
   ]
  },
  {
   "cell_type": "code",
   "execution_count": null,
   "id": "d7fd28ea",
   "metadata": {},
   "outputs": [],
   "source": [
    "from sklearn.model_selection import cross_val_score"
   ]
  },
  {
   "cell_type": "code",
   "execution_count": null,
   "id": "5969f25a",
   "metadata": {},
   "outputs": [],
   "source": [
    "for i in model:\n",
    "    print('mean_square of ',i, 'model',mean_squared_error(y_test,i.predict(x_test)))\n",
    "    print(\"cross Validation score of \",i ,\" is \",cross_val_score(i,X,Y,cv=10, scoring='neg_mean_squared_error').mean())\n",
    "    print('*'*50)"
   ]
  },
  {
   "cell_type": "code",
   "execution_count": null,
   "id": "88c6440e",
   "metadata": {},
   "outputs": [],
   "source": [
    "# For a generalised model, SGD has minimum gap\n",
    "\n",
    "# mean_square of  SGDRegressor() model 0.08239329509185805\n",
    "# cross Validation score of  SGDRegressor()  is  -0.08771725502019286"
   ]
  },
  {
   "cell_type": "markdown",
   "id": "f122f2be",
   "metadata": {},
   "source": [
    "# SGD Regressor()"
   ]
  },
  {
   "cell_type": "code",
   "execution_count": null,
   "id": "da48bc7c",
   "metadata": {},
   "outputs": [],
   "source": [
    "y_test,i.predict(x_test)"
   ]
  },
  {
   "cell_type": "code",
   "execution_count": null,
   "id": "ef4dbba0",
   "metadata": {},
   "outputs": [],
   "source": [
    "plt.scatter(x=y_test,y=SGH_model.predict(x_test))\n",
    "plt.xlabel('Y_Test')\n",
    "plt.ylabel('Predicted Y')"
   ]
  },
  {
   "cell_type": "code",
   "execution_count": null,
   "id": "5406fcc4",
   "metadata": {},
   "outputs": [],
   "source": [
    "10.0 ** -np.arange(1, 7)"
   ]
  },
  {
   "cell_type": "code",
   "execution_count": null,
   "id": "7c77679d",
   "metadata": {},
   "outputs": [],
   "source": [
    "params={'penalty':['l2','l1','elasticnet'],\n",
    "       'alpha':[1.e-01, 1.e-02, 1.e-03, 1.e-04, 1.e-05, 1.e-06],\n",
    "        'loss':['squared_loss', 'huber', 'epsilon_insensitive'],\n",
    "       'learning_rate':['constant','optimal','invscaling']}"
   ]
  },
  {
   "cell_type": "code",
   "execution_count": null,
   "id": "d8082ab5",
   "metadata": {},
   "outputs": [],
   "source": [
    "from sklearn.model_selection import GridSearchCV"
   ]
  },
  {
   "cell_type": "code",
   "execution_count": null,
   "id": "c326a8af",
   "metadata": {},
   "outputs": [],
   "source": [
    "GCV= GridSearchCV(SGH_model,params,cv=5,scoring='neg_mean_squared_error', n_jobs=-1)\n",
    "GCV.fit(x_train,y_train)"
   ]
  },
  {
   "cell_type": "code",
   "execution_count": null,
   "id": "251d3f61",
   "metadata": {},
   "outputs": [],
   "source": [
    "GCV.best_params_"
   ]
  },
  {
   "cell_type": "code",
   "execution_count": null,
   "id": "96c42fb9",
   "metadata": {},
   "outputs": [],
   "source": [
    "\n",
    "GCV_pred= GCV.best_estimator_.predict(x_test)\n",
    "mean_squared_error(y_test,GCV_pred)"
   ]
  },
  {
   "cell_type": "markdown",
   "id": "24025c65",
   "metadata": {},
   "source": [
    "SGD regressor is doing good\n",
    "MSE= 8"
   ]
  },
  {
   "cell_type": "markdown",
   "id": "ac357f1e",
   "metadata": {},
   "source": [
    "# Prediction with Region"
   ]
  },
  {
   "cell_type": "code",
   "execution_count": null,
   "id": "e9f5e21e",
   "metadata": {},
   "outputs": [],
   "source": [
    "df.head()"
   ]
  },
  {
   "cell_type": "code",
   "execution_count": null,
   "id": "c08bc067",
   "metadata": {},
   "outputs": [],
   "source": [
    "df['region'].nunique()"
   ]
  },
  {
   "cell_type": "code",
   "execution_count": null,
   "id": "bfa3f816",
   "metadata": {},
   "outputs": [],
   "source": [
    "# We have already done EDA, lets process the data\n",
    "# delete Date feature becauyse we have yera and month already\n",
    "# Label encoder for target variable df['region'] to convert into integer\n",
    "# Type feature can be hot encoded\n",
    "# as did earlier, we will use PCA for all dependent fetaures to reduce multi colinearity"
   ]
  },
  {
   "cell_type": "markdown",
   "id": "5e5b0ba7",
   "metadata": {},
   "source": [
    "# Outlier()"
   ]
  },
  {
   "cell_type": "code",
   "execution_count": null,
   "id": "506e809a",
   "metadata": {},
   "outputs": [],
   "source": [
    "# if outlier records are lewss, we will delete"
   ]
  },
  {
   "cell_type": "code",
   "execution_count": null,
   "id": "09be6328",
   "metadata": {},
   "outputs": [],
   "source": [
    "num= df.select_dtypes(np.number)\n",
    "num"
   ]
  },
  {
   "cell_type": "code",
   "execution_count": null,
   "id": "47f67b80",
   "metadata": {},
   "outputs": [],
   "source": [
    "num.skew()"
   ]
  },
  {
   "cell_type": "code",
   "execution_count": null,
   "id": "32100f33",
   "metadata": {},
   "outputs": [],
   "source": [
    "df.plot(kind='box', subplots=True, layout=(4,5),figsize=(15,10))"
   ]
  },
  {
   "cell_type": "code",
   "execution_count": null,
   "id": "05d15852",
   "metadata": {},
   "outputs": [],
   "source": [
    "from scipy.stats import zscore\n",
    "\n",
    "# calculate z score\n",
    "z=np.abs(zscore(num))\n",
    "print(z)"
   ]
  },
  {
   "cell_type": "code",
   "execution_count": null,
   "id": "f4de6605",
   "metadata": {},
   "outputs": [],
   "source": [
    "threshold=3\n",
    "print(np.where(z<3))\n",
    "print(num.shape)"
   ]
  },
  {
   "cell_type": "code",
   "execution_count": null,
   "id": "9c25f081",
   "metadata": {},
   "outputs": [],
   "source": [
    "# assign the value to df_new which are less the threshold\n",
    "data= df[(z<3).all(axis=1)]\n",
    "data.head()"
   ]
  },
  {
   "cell_type": "code",
   "execution_count": null,
   "id": "059701bd",
   "metadata": {},
   "outputs": [],
   "source": [
    "data.shape"
   ]
  },
  {
   "cell_type": "code",
   "execution_count": null,
   "id": "7fecde67",
   "metadata": {},
   "outputs": [],
   "source": [
    "df.shape[0]- data.shape[0]"
   ]
  },
  {
   "cell_type": "code",
   "execution_count": null,
   "id": "1f88d7c9",
   "metadata": {},
   "outputs": [],
   "source": [
    "data.skew()"
   ]
  },
  {
   "cell_type": "code",
   "execution_count": null,
   "id": "a97930d6",
   "metadata": {},
   "outputs": [],
   "source": [
    "# Skewness reduced to some extent"
   ]
  },
  {
   "cell_type": "code",
   "execution_count": null,
   "id": "c7568c10",
   "metadata": {},
   "outputs": [],
   "source": [
    "data.drop('Date', axis=1,inplace=True)\n",
    "data.shape"
   ]
  },
  {
   "cell_type": "code",
   "execution_count": null,
   "id": "7d5aacc2",
   "metadata": {},
   "outputs": [],
   "source": [
    "num= data.select_dtypes(np.number)\n",
    "num"
   ]
  },
  {
   "cell_type": "markdown",
   "id": "79c8541a",
   "metadata": {},
   "source": [
    "# Transformation to remove skewness"
   ]
  },
  {
   "cell_type": "code",
   "execution_count": null,
   "id": "1734a740",
   "metadata": {},
   "outputs": [],
   "source": [
    "from sklearn.preprocessing import power_transform\n",
    "transformed=power_transform(num)"
   ]
  },
  {
   "cell_type": "code",
   "execution_count": null,
   "id": "a944c6a9",
   "metadata": {},
   "outputs": [],
   "source": [
    "transformed=pd.DataFrame(transformed)\n",
    "transformed.columns= num.columns\n",
    "transformed"
   ]
  },
  {
   "cell_type": "markdown",
   "id": "c5c9c2e1",
   "metadata": {},
   "source": [
    "# PCA - to reduce curse of dimentionality"
   ]
  },
  {
   "cell_type": "code",
   "execution_count": null,
   "id": "507b3bca",
   "metadata": {},
   "outputs": [],
   "source": [
    "from sklearn.preprocessing import StandardScaler\n",
    "sc= StandardScaler()\n",
    "scaled=sc.fit_transform(transformed)"
   ]
  },
  {
   "cell_type": "code",
   "execution_count": null,
   "id": "4a7e6459",
   "metadata": {},
   "outputs": [],
   "source": [
    "from sklearn.preprocessing import StandardScaler\n",
    "sc= StandardScaler()\n",
    "scaled=sc.fit_transform(transformed)\n",
    "scaled= pd.DataFrame(scaled)\n",
    "scaled.columns= transformed.columns\n",
    "scaled"
   ]
  },
  {
   "cell_type": "code",
   "execution_count": null,
   "id": "69bfc76f",
   "metadata": {},
   "outputs": [],
   "source": [
    "from sklearn.decomposition import PCA\n",
    "pca= PCA()"
   ]
  },
  {
   "cell_type": "code",
   "execution_count": null,
   "id": "31c423a5",
   "metadata": {},
   "outputs": [],
   "source": [
    "principal_component=pca.fit_transform(scaled)"
   ]
  },
  {
   "cell_type": "code",
   "execution_count": null,
   "id": "99c95e0d",
   "metadata": {},
   "outputs": [],
   "source": [
    "plt.figure()\n",
    "plt.plot(np.cumsum(pca.explained_variance_ratio_))\n",
    "plt.xlabel('no of component')\n",
    "plt.ylabel('variance (%)')\n",
    "plt.title('explained variance')\n",
    "plt.show()"
   ]
  },
  {
   "cell_type": "code",
   "execution_count": null,
   "id": "e3a813e9",
   "metadata": {},
   "outputs": [],
   "source": [
    "## Graph shows 8 components has explained 98% variance of all features, so use 8"
   ]
  },
  {
   "cell_type": "code",
   "execution_count": null,
   "id": "92b447a0",
   "metadata": {},
   "outputs": [],
   "source": [
    "pca=PCA(n_components=8)"
   ]
  },
  {
   "cell_type": "code",
   "execution_count": null,
   "id": "c0b50249",
   "metadata": {},
   "outputs": [],
   "source": [
    "new_data= pca.fit_transform(scaled)\n",
    "principal_x= pd.DataFrame(new_data,columns=['PC1','PC2','PC3','PC4','PC5','PC6','PC7','PC8'])\n",
    "principal_x"
   ]
  },
  {
   "cell_type": "code",
   "execution_count": null,
   "id": "55bd39a5",
   "metadata": {},
   "outputs": [],
   "source": [
    "cat=pd.get_dummies(data['type'])"
   ]
  },
  {
   "cell_type": "code",
   "execution_count": null,
   "id": "0d3fed7d",
   "metadata": {},
   "outputs": [],
   "source": [
    "principal_x.shape , cat.shape"
   ]
  },
  {
   "cell_type": "code",
   "execution_count": null,
   "id": "04fdf457",
   "metadata": {},
   "outputs": [],
   "source": [
    "pd.concat([principal_x,cat],axis=1,join='inner')"
   ]
  },
  {
   "cell_type": "code",
   "execution_count": null,
   "id": "617e9037",
   "metadata": {},
   "outputs": [],
   "source": [
    "principal_x['type']= data['type']\n",
    "principal_x"
   ]
  },
  {
   "cell_type": "code",
   "execution_count": null,
   "id": "8dc54e52",
   "metadata": {},
   "outputs": [],
   "source": [
    "X=pd.get_dummies(principal_x)\n",
    "X.shape\n",
    "(17651, 10)\n",
    "# Label encoder for target variable\n",
    "from sklearn.preprocessing import LabelEncoder\n",
    "le=LabelEncoder()\n",
    "Y=le.fit_transform(data['region'])\n",
    "Y.shape\n",
    "(17651,)\n",
    "pd.DataFrame(Y,columns=['region']).value_counts()"
   ]
  },
  {
   "cell_type": "markdown",
   "id": "ee56379e",
   "metadata": {},
   "source": [
    "# Machine Learning"
   ]
  },
  {
   "cell_type": "code",
   "execution_count": null,
   "id": "bde769cc",
   "metadata": {},
   "outputs": [],
   "source": [
    "from sklearn.model_selection import train_test_split\n",
    "from sklearn.linear_model import LogisticRegression\n",
    "from sklearn.metrics import accuracy_score,confusion_matrix,classification_report"
   ]
  },
  {
   "cell_type": "code",
   "execution_count": null,
   "id": "9b00f691",
   "metadata": {},
   "outputs": [],
   "source": [
    "# FInd best Random_state\n",
    "\n",
    "maxaccu=0\n",
    "maxRS=0\n",
    "\n",
    "for i in range(0,200):\n",
    "    x_train,x_test,y_train,y_test= train_test_split(X,Y,random_state=i,test_size=.20)\n",
    "    LR= LogisticRegression()\n",
    "    LR.fit(x_train,y_train)\n",
    "    pred= LR.predict(x_test)\n",
    "    acc=accuracy_score(y_test,pred)\n",
    "    if acc>maxaccu:\n",
    "        maxaccu=acc\n",
    "        maxRS=i\n",
    "print(\"Best accuracy is \",maxaccu,\"on Random State =\",maxRS)\n",
    "    \n",
    "    "
   ]
  },
  {
   "cell_type": "markdown",
   "id": "9ace166a",
   "metadata": {},
   "source": [
    "# 2nd Method"
   ]
  },
  {
   "cell_type": "code",
   "execution_count": null,
   "id": "ce13101c",
   "metadata": {},
   "outputs": [],
   "source": [
    "data\n",
    "data.info()"
   ]
  },
  {
   "cell_type": "code",
   "execution_count": null,
   "id": "46bae0f6",
   "metadata": {},
   "outputs": [],
   "source": [
    "\n",
    "plt.figure(figsize=(12,8))\n",
    "sns.heatmap(data.corr(),annot=True)"
   ]
  },
  {
   "cell_type": "code",
   "execution_count": null,
   "id": "c0a89c6f",
   "metadata": {},
   "outputs": [],
   "source": [
    "data.head()"
   ]
  },
  {
   "cell_type": "code",
   "execution_count": null,
   "id": "62c120e2",
   "metadata": {},
   "outputs": [],
   "source": [
    "\n",
    "scaled"
   ]
  },
  {
   "cell_type": "code",
   "execution_count": null,
   "id": "fb488772",
   "metadata": {},
   "outputs": [],
   "source": [
    "scaled['type']= data['type']"
   ]
  },
  {
   "cell_type": "code",
   "execution_count": null,
   "id": "e666137e",
   "metadata": {},
   "outputs": [],
   "source": [
    "scaled"
   ]
  },
  {
   "cell_type": "code",
   "execution_count": null,
   "id": "53667a6f",
   "metadata": {},
   "outputs": [],
   "source": [
    "input_data=pd.get_dummies(scaled)\n",
    "input_data.shape"
   ]
  },
  {
   "cell_type": "code",
   "execution_count": null,
   "id": "ea0cee00",
   "metadata": {},
   "outputs": [],
   "source": [
    "Y.shape"
   ]
  },
  {
   "cell_type": "code",
   "execution_count": null,
   "id": "1b8b2a16",
   "metadata": {},
   "outputs": [],
   "source": [
    "\n",
    "maxaccu=0\n",
    "maxRS=0\n",
    "\n",
    "for i in range(0,200):\n",
    "    x_train,x_test,y_train,y_test= train_test_split(input_data,Y,random_state=i,test_size=.33)\n",
    "    LR= LogisticRegression()\n",
    "    LR.fit(x_train,y_train)\n",
    "    pred= LR.predict(x_test)\n",
    "    acc=accuracy_score(y_test,pred)\n",
    "    if acc>maxaccu:\n",
    "        maxaccu=acc\n",
    "        maxRS=i\n",
    "print(\"Best accuracy is \",maxaccu,\"on Random State =\",maxRS)"
   ]
  },
  {
   "cell_type": "markdown",
   "id": "b1fd29dd",
   "metadata": {},
   "source": [
    "# 3rd Method"
   ]
  },
  {
   "cell_type": "code",
   "execution_count": null,
   "id": "c756be27",
   "metadata": {},
   "outputs": [],
   "source": [
    "data\n"
   ]
  },
  {
   "cell_type": "code",
   "execution_count": null,
   "id": "691ca629",
   "metadata": {},
   "outputs": [],
   "source": [
    "# we can remove these columns, not required\n",
    "\n",
    "final_data= data.drop(['Total Volume','Total Bags'], axis=1)"
   ]
  },
  {
   "cell_type": "code",
   "execution_count": null,
   "id": "909d9320",
   "metadata": {},
   "outputs": [],
   "source": [
    "final_data.head()"
   ]
  },
  {
   "cell_type": "code",
   "execution_count": null,
   "id": "1d9ae630",
   "metadata": {},
   "outputs": [],
   "source": [
    "final_data.shape"
   ]
  },
  {
   "cell_type": "code",
   "execution_count": null,
   "id": "37309d40",
   "metadata": {},
   "outputs": [],
   "source": [
    "final_data.skew()"
   ]
  },
  {
   "cell_type": "code",
   "execution_count": null,
   "id": "33392004",
   "metadata": {},
   "outputs": [],
   "source": [
    "\n",
    "final_data.head()"
   ]
  },
  {
   "cell_type": "code",
   "execution_count": null,
   "id": "46900a31",
   "metadata": {},
   "outputs": [],
   "source": [
    "final_data['region'].value_counts()\n",
    "Roanoke                338"
   ]
  },
  {
   "cell_type": "markdown",
   "id": "ad2fa6fb",
   "metadata": {},
   "source": [
    "# Balance data() SMOTE"
   ]
  },
  {
   "cell_type": "code",
   "execution_count": null,
   "id": "9ef6565b",
   "metadata": {},
   "outputs": [],
   "source": [
    " !pip install imblearn"
   ]
  },
  {
   "cell_type": "code",
   "execution_count": null,
   "id": "8f4cc907",
   "metadata": {},
   "outputs": [],
   "source": [
    "from imblearn.over_sampling import SMOTE\n",
    "smt=SMOTE()"
   ]
  },
  {
   "cell_type": "code",
   "execution_count": null,
   "id": "19d49957",
   "metadata": {},
   "outputs": [],
   "source": [
    "final_data.head()"
   ]
  },
  {
   "cell_type": "code",
   "execution_count": null,
   "id": "7038a9b0",
   "metadata": {},
   "outputs": [],
   "source": [
    "final_data.drop('region',axis=1,inplace=True)"
   ]
  },
  {
   "cell_type": "code",
   "execution_count": null,
   "id": "538a8363",
   "metadata": {},
   "outputs": [],
   "source": [
    "# transformation:\n",
    "\n",
    "from sklearn.preprocessing import power_transform\n",
    "transformed=power_transform(daata)"
   ]
  },
  {
   "cell_type": "code",
   "execution_count": null,
   "id": "a1b5e661",
   "metadata": {},
   "outputs": [],
   "source": [
    "sc=StandardScaler()\n",
    "standard=sc.fit_transform(transformed)\n",
    "standard.shape"
   ]
  },
  {
   "cell_type": "code",
   "execution_count": null,
   "id": "b0c2e07d",
   "metadata": {},
   "outputs": [],
   "source": [
    "balance_X,balance_Y=smt.fit_resample(standard,Y)\n",
    "balance_X.shape  , balance_Y.shape"
   ]
  },
  {
   "cell_type": "code",
   "execution_count": null,
   "id": "a9a55855",
   "metadata": {},
   "outputs": [],
   "source": [
    "# FInd best Random_state\n",
    "\n",
    "maxaccu=0\n",
    "maxRS=0\n",
    "\n",
    "for i in range(0,200):\n",
    "    x_train,x_test,y_train,y_test= train_test_split(balance_X,balance_Y,random_state=i,test_size=.33)\n",
    "    LR= LogisticRegression()\n",
    "    LR.fit(x_train,y_train)\n",
    "    pred= LR.predict(x_test)\n",
    "    acc=accuracy_score(y_test,pred)\n",
    "    if acc>maxaccu:\n",
    "        maxaccu=acc\n",
    "        maxRS=i\n",
    "print(\"Best accuracy is \",maxaccu,\"on Random State =\",maxRS)"
   ]
  },
  {
   "cell_type": "code",
   "execution_count": null,
   "id": "d76b3439",
   "metadata": {},
   "outputs": [],
   "source": [
    "Random State selection is:  2"
   ]
  },
  {
   "cell_type": "code",
   "execution_count": null,
   "id": "697feec6",
   "metadata": {},
   "outputs": [],
   "source": [
    "x_train,x_test,y_train,y_test= train_test_split(balance_X,balance_Y,random_state=2,test_size=.20)"
   ]
  },
  {
   "cell_type": "code",
   "execution_count": null,
   "id": "95cad383",
   "metadata": {},
   "outputs": [],
   "source": [
    "from sklearn.linear_model import LogisticRegression\n",
    "from sklearn.linear_model import RidgeClassifier\n",
    "from sklearn.tree import DecisionTreeClassifier\n",
    "from sklearn.svm import SVC\n",
    "from sklearn.neighbors import KNeighborsClassifier\n",
    "from sklearn.ensemble import RandomForestClassifier\n",
    "from xgboost import XGBClassifier\n",
    "from sklearn.linear_model import SGDClassifier\n",
    "from sklearn.ensemble import BaggingClassifier\n",
    "from sklearn.ensemble import AdaBoostClassifier\n",
    "from sklearn.ensemble import GradientBoostingClassifier"
   ]
  },
  {
   "cell_type": "code",
   "execution_count": null,
   "id": "eef0842d",
   "metadata": {},
   "outputs": [],
   "source": [
    "LR_model= LogisticRegression()\n",
    "RD_model= RidgeClassifier()\n",
    "DT_model= DecisionTreeClassifier()\n",
    "SV_model= SVC()\n",
    "KNR_model= KNeighborsClassifier()\n",
    "RFR_model= RandomForestClassifier()\n",
    "XGB_model= XGBClassifier()\n",
    "SGH_model= SGDClassifier()\n",
    "Bag_model=BaggingClassifier()\n",
    "ADA_model=AdaBoostClassifier()\n",
    "GB_model= GradientBoostingClassifier()\n",
    "model=[LR_model,RD_model,DT_model,SV_model,KNR_model,RFR_model,XGB_model,SGH_model,Bag_model,ADA_model,GB_model ]"
   ]
  },
  {
   "cell_type": "code",
   "execution_count": null,
   "id": "36e705ea",
   "metadata": {},
   "outputs": [],
   "source": [
    "for m in model:\n",
    "    m.fit(x_train,y_train)\n",
    "    m.score(x_train,y_train)\n",
    "    pred= m.predict(x_test)\n",
    "    print('Accuracy_Score of ',m, 'is', accuracy_score(y_test,pred)*100)\n",
    "    print('Confusion Matrix of ',m,' is \\n', confusion_matrix(y_test,pred) )\n",
    "    print(classification_report(y_test,pred))\n",
    "    print('*'*50)"
   ]
  },
  {
   "cell_type": "markdown",
   "id": "f03a4ef7",
   "metadata": {},
   "source": [
    "# Bagging classifier is giving minimum difference"
   ]
  },
  {
   "cell_type": "code",
   "execution_count": null,
   "id": "41269741",
   "metadata": {},
   "outputs": [],
   "source": [
    "Hypertuning:"
   ]
  },
  {
   "cell_type": "code",
   "execution_count": null,
   "id": "2863c850",
   "metadata": {},
   "outputs": [],
   "source": [
    "params = {'n_estimators' : [100,150,200,300,500],\n",
    "    'max_features' : [1, 2, 3, 4, 5],\n",
    "    'max_samples' : [0.05, 0.1, 0.2, 0.5]\n",
    "}"
   ]
  },
  {
   "cell_type": "code",
   "execution_count": null,
   "id": "a3bc65d1",
   "metadata": {},
   "outputs": [],
   "source": [
    "from sklearn.model_selection import GridSearchCV"
   ]
  },
  {
   "cell_type": "code",
   "execution_count": null,
   "id": "48b5c3fb",
   "metadata": {},
   "outputs": [],
   "source": [
    "GCV=GridSearchCV(Bag_model,param_grid=params,cv=5,n_jobs=-1,verbose=2)\n",
    "GCV.fit(x_train,y_train)"
   ]
  },
  {
   "cell_type": "code",
   "execution_count": null,
   "id": "6ecb25af",
   "metadata": {},
   "outputs": [],
   "source": [
    "GCV.best_estimator_"
   ]
  },
  {
   "cell_type": "code",
   "execution_count": null,
   "id": "ad48da7c",
   "metadata": {},
   "outputs": [],
   "source": [
    "GCV.best_params_"
   ]
  },
  {
   "cell_type": "code",
   "execution_count": null,
   "id": "f5f80f5a",
   "metadata": {},
   "outputs": [],
   "source": [
    "GCV_pred=GCV.best_estimator_.predict(x_test)\n",
    "accuracy_score(y_test,GCV_pred)"
   ]
  },
  {
   "cell_type": "code",
   "execution_count": null,
   "id": "d46071ba",
   "metadata": {},
   "outputs": [],
   "source": [
    "Accuracy imporved to 88.6"
   ]
  },
  {
   "cell_type": "code",
   "execution_count": null,
   "id": "296e845a",
   "metadata": {},
   "outputs": [],
   "source": []
  }
 ],
 "metadata": {
  "kernelspec": {
   "display_name": "Python 3 (ipykernel)",
   "language": "python",
   "name": "python3"
  },
  "language_info": {
   "codemirror_mode": {
    "name": "ipython",
    "version": 3
   },
   "file_extension": ".py",
   "mimetype": "text/x-python",
   "name": "python",
   "nbconvert_exporter": "python",
   "pygments_lexer": "ipython3",
   "version": "3.9.7"
  }
 },
 "nbformat": 4,
 "nbformat_minor": 5
}
